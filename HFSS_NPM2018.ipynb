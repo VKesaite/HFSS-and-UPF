{
 "cells": [
  {
   "cell_type": "code",
   "execution_count": 147,
   "metadata": {},
   "outputs": [],
   "source": [
    "import warnings\n",
    "warnings.filterwarnings(\"ignore\")"
   ]
  },
  {
   "cell_type": "code",
   "execution_count": 148,
   "metadata": {},
   "outputs": [],
   "source": [
    "import statsmodels.api as sm\n",
    "import statsmodels.formula.api as smf\n",
    "import statsmodels\n",
    "import matplotlib.pyplot as plt\n",
    "\n",
    "import pandas as pd\n",
    "import numpy as np \n",
    "import matplotlib.pyplot as plt\n",
    "\n",
    "food = pd.read_csv(\"/Users/viktorijakesaite/Desktop/CAMBRIDGE POSTDOC/UPF/data files/foodleveldietarydatauk_new.csv\", encoding='latin1')"
   ]
  },
  {
   "cell_type": "markdown",
   "metadata": {},
   "source": [
    "Exclude alcohol and supplements"
   ]
  },
  {
   "cell_type": "code",
   "execution_count": 150,
   "metadata": {},
   "outputs": [],
   "source": [
    "categories= {'47A', '47B','48A', '48B', '48C', '49A', '49B', '49C', '49D', '49E', '54A', '54B', '54C', '54D', '54E','54F', '54G', '54H', '54I', '54J', '54K', '54L', '54M', '54N', '54P'}\n",
    "food_noalcnovit=food[~food['SubFoodGroupCode'].isin(categories)]"
   ]
  },
  {
   "cell_type": "markdown",
   "metadata": {},
   "source": [
    "Create vegetable and fruit purees -- based on 'FoodName' variable"
   ]
  },
  {
   "cell_type": "code",
   "execution_count": 151,
   "metadata": {},
   "outputs": [],
   "source": [
    "veg_pureed={'BROCOLLI SPEARS FRESH BOILED PUREED','CABBAGE-WINTER KALE FRESH BOILED (PUREED)',\n",
    "            'CARROT OLD RAW PUREED','CARROTS OLD, FRESH, BOILED PUREED', 'CARROTS YOUNG FRESH BOILED PUREED', 'CARROTS YOUNG FRESH RAW PUREED',  \n",
    "            'CAULIFLOWER-FRESH BOILED (PUREED)', 'CELERIAC FRESH BOILED (PUREED)', 'CELERY FRESH BOILED PUREED',  'CELERY, FRESH RAW (PUREED)',\n",
    "            'COURGETTE-BOILED (PUREED)','GARLIC PUREE','GUACAMOLE PURCHASED', 'GUACAMOLE REDUCED FAT PURCHASED',\n",
    "            'HARICOT BEANS, NO ADDED SALT, CANNED AND DRAINED, COOKED (PUREED)','HUMMUS, NOT CANNED', 'HUMMUS/HOUMOUS, LOW/REDUCED FAT',\n",
    "            'LEEKS FRESH BOILED (PUREED)', 'LENTILS SPLIT BOILED (PUREED)', 'MUSHROOMS STEWED OR GRILLED (PUREED)',\n",
    "            'ONIONS BOILED PUREED', 'PEAS FROZEN BOILED (PUREED) FF PROJECT', 'PEAS SPLIT DRIED BOILED (PUREED)', \n",
    "            'PEAS-CHICK, NO ADDED SALT OR SUGAR, CANNED AND DRAINED , COOKED (PUREED)', 'PEPPERS GREEN BOILED (PUREED)', \n",
    "            'PEPPERS YELLOW FRESH BOILED (PUREED)',  'PUMPKIN, PUREED, BOILED', 'SPINACH RAW NOT BABY SPINACH (PUREED)', 'SPINACH FRESH BOILED (PUREED)', \n",
    "            'SWEDE BOILED (PUREED)', 'SWEETCORN, CANNED, DRAINED, NON ADDED SUGAR OR SALT (PUREED) FS PROJECT', 'TURNIPS-BOILED (PUREED)'}"
   ]
  },
  {
   "cell_type": "code",
   "execution_count": 152,
   "metadata": {},
   "outputs": [],
   "source": [
    "fruit_pureed={'GOJI BERRIES / WOLFBERRIES DRIED (PUREED)','MELON PUREE, HOMEMADE, 100% FRESH RAW FRUIT NAS','STRAWBERRIES STEWED WITHOUT SUGAR (PUREED)', \n",
    "              'PURE FRUIT PUREES NAS ANY FLAVOUR READY TO EAT (ADDED VIT C 0-10MG)', \n",
    "              'PURE FRUIT PUREES NAS ANY FLAVOUR READY TO EAT (ADDED VIT C 10-20MG)',\n",
    "              'PURE FRUIT PUREES NAS ANY FLAVOUR READY TO EAT (ADDED VIT C OVER 20MG)', 'GRAPEFRUIT RAW, PUREED, FLESH ONLY NO PEEL OR PIPS', \n",
    "              'KIWI PUREE, HOMEMADE, 100% FRESH RAW FRUIT NAS', 'NECTARINE PUREE, HOMEMADE, 100% FRESH RAW FRUIT NAS', \n",
    "              'PASSION FRUIT RAW FLESH & SEEDS ONLY (PUREED)', 'RASPBERRY PUREE, HOMEMADE, 100% FRESH RAW FRUIT NAS'}"
   ]
  },
  {
   "cell_type": "code",
   "execution_count": 153,
   "metadata": {},
   "outputs": [],
   "source": [
    "food_noalcnovit.loc[:, 'veg_pureed']  = 0\n",
    "food_noalcnovit.loc[:, 'fruit_pureed']  = 0\n",
    "food_noalcnovit.loc[food_noalcnovit['FoodName'].isin(veg_pureed), 'veg_pureed'] = food_noalcnovit.loc[food_noalcnovit['FoodName'].isin(veg_pureed), 'TotalGrams']\n",
    "food_noalcnovit.loc[food_noalcnovit['FoodName'].isin(fruit_pureed), 'fruit_pureed'] = food_noalcnovit.loc[food_noalcnovit['FoodName'].isin(fruit_pureed), 'TotalGrams']"
   ]
  },
  {
   "cell_type": "markdown",
   "metadata": {},
   "source": [
    "Calculate vegetable variable"
   ]
  },
  {
   "cell_type": "code",
   "execution_count": 154,
   "metadata": {},
   "outputs": [],
   "source": [
    "food_noalcnovit.loc[:,\"vegetable\"] = food_noalcnovit[\"Tomatoesg\"]+ food_noalcnovit[\"Brassicaceaeg\"]+food_noalcnovit[\"YellowRedGreeng\"]+food_noalcnovit[\"Beansg\"]+food_noalcnovit[\"OtherVegg\"]"
   ]
  },
  {
   "cell_type": "markdown",
   "metadata": {},
   "source": [
    "Calculate fruit, veg, and nuts per 100g "
   ]
  },
  {
   "cell_type": "code",
   "execution_count": 155,
   "metadata": {},
   "outputs": [],
   "source": [
    "food_noalcnovit.loc [:,\"fvn_per_100_g\"] = (food_noalcnovit[\"Fruitg\"] + food_noalcnovit[\"vegetable\"]+ food_noalcnovit[\"Nutsg\"]+ food_noalcnovit['TomatoPureeg']*2+ food_noalcnovit['veg_pureed']*2+ food_noalcnovit['fruit_pureed']*2+food_noalcnovit['DriedFruitg']*2)/(food_noalcnovit[\"TotalGrams\"]+ food_noalcnovit['TomatoPureeg'] + food_noalcnovit['veg_pureed']+ food_noalcnovit['fruit_pureed']+ food_noalcnovit['DriedFruitg'])*100"
   ]
  },
  {
   "cell_type": "markdown",
   "metadata": {},
   "source": [
    "Calculate salt"
   ]
  },
  {
   "cell_type": "code",
   "execution_count": 156,
   "metadata": {},
   "outputs": [],
   "source": [
    "food_noalcnovit.loc[:,\"salt\"]= food_noalcnovit[\"Sodiummg\"]/393.4"
   ]
  },
  {
   "cell_type": "markdown",
   "metadata": {},
   "source": [
    "Calculate the amount per 100g"
   ]
  },
  {
   "cell_type": "code",
   "execution_count": 157,
   "metadata": {},
   "outputs": [],
   "source": [
    "food_noalcnovit.loc [:, \"Fruitjuice_per_100_g\"] = food_noalcnovit[\"FruitJuiceg\"]/food_noalcnovit[\"TotalGrams\"]*100"
   ]
  },
  {
   "cell_type": "code",
   "execution_count": 158,
   "metadata": {},
   "outputs": [],
   "source": [
    "food_noalcnovit.loc [:, \"Smoothies_per_100_g\"] = food_noalcnovit[\"SmoothieFruitg\"]/food_noalcnovit[\"TotalGrams\"]*100"
   ]
  },
  {
   "cell_type": "code",
   "execution_count": 159,
   "metadata": {},
   "outputs": [],
   "source": [
    "food_noalcnovit.loc[:,\"EnergykJ_per_100_g\"] = food_noalcnovit[\"EnergykJ\"]/food_noalcnovit[\"TotalGrams\"]*100"
   ]
  },
  {
   "cell_type": "code",
   "execution_count": 160,
   "metadata": {},
   "outputs": [],
   "source": [
    "food_noalcnovit.loc [:,\"Saturatedfattyacidsg_per_100_g\"] = food_noalcnovit[\"Saturatedfattyacidsg\"]/food_noalcnovit[\"TotalGrams\"]*100"
   ]
  },
  {
   "cell_type": "code",
   "execution_count": 161,
   "metadata": {},
   "outputs": [],
   "source": [
    "food_noalcnovit.loc [:,\"salt_per_100_g\"]= food_noalcnovit[\"salt\"]/food_noalcnovit[\"TotalGrams\"]*100"
   ]
  },
  {
   "cell_type": "code",
   "execution_count": 162,
   "metadata": {},
   "outputs": [],
   "source": [
    "food_noalcnovit.loc[:,\"FreeSugarsg_per_100_g\"] = food_noalcnovit[\"FreeSugarsg\"]/food_noalcnovit[\"TotalGrams\"]*100"
   ]
  },
  {
   "cell_type": "code",
   "execution_count": 163,
   "metadata": {},
   "outputs": [],
   "source": [
    "food_noalcnovit.loc[:,\"Englystfibreg_per_100_g\"] = food_noalcnovit[\"Englystfibreg\"]/food_noalcnovit[\"TotalGrams\"]*100"
   ]
  },
  {
   "cell_type": "code",
   "execution_count": 164,
   "metadata": {},
   "outputs": [],
   "source": [
    "food_noalcnovit.loc [:,\"AOACFibreg_per_100_g\"] = food_noalcnovit[\"AOACFibreg\"]/food_noalcnovit[\"TotalGrams\"]*100"
   ]
  },
  {
   "cell_type": "code",
   "execution_count": 165,
   "metadata": {},
   "outputs": [],
   "source": [
    "food_noalcnovit.loc [:,\"Proteing_per_100_g\"] = food_noalcnovit[\"Proteing\"]/food_noalcnovit[\"TotalGrams\"]*100"
   ]
  },
  {
   "cell_type": "code",
   "execution_count": 166,
   "metadata": {},
   "outputs": [
    {
     "data": {
      "text/plain": [
       "Unprocessed or minimally processed foods    49.459298\n",
       "Ultra-processed food and drink products     36.210392\n",
       "Processed culinary ingredients               8.208614\n",
       "Processed foods                              6.121695\n",
       "Name: NOVANumNEW_agreement, dtype: float64"
      ]
     },
     "execution_count": 166,
     "metadata": {},
     "output_type": "execute_result"
    }
   ],
   "source": [
    "food_noalcnovit.NOVANumNEW_agreement.value_counts(normalize=True)*100"
   ]
  },
  {
   "cell_type": "code",
   "execution_count": 167,
   "metadata": {},
   "outputs": [],
   "source": [
    "food_noalcnovit.loc[:, 'NOVA_UPF_NUPF_boolean'] = (food_noalcnovit['NOVANumNEW_agreement'] == 'Ultra-processed food and drink products')"
   ]
  },
  {
   "cell_type": "code",
   "execution_count": 168,
   "metadata": {},
   "outputs": [
    {
     "data": {
      "text/plain": [
       "False    63.789608\n",
       "True     36.210392\n",
       "Name: NOVA_UPF_NUPF_boolean, dtype: float64"
      ]
     },
     "execution_count": 168,
     "metadata": {},
     "output_type": "execute_result"
    }
   ],
   "source": [
    "food_noalcnovit.NOVA_UPF_NUPF_boolean.value_counts(normalize=True)*100"
   ]
  },
  {
   "cell_type": "markdown",
   "metadata": {},
   "source": [
    "A POINTS"
   ]
  },
  {
   "cell_type": "code",
   "execution_count": 169,
   "metadata": {},
   "outputs": [],
   "source": [
    "energy_points18 = {0: [-1, 315], 1: [315, 630], 2: [630, 945], 3: [945, 1260], \n",
    "                 4: [1260, 1575], 5: [1575, 1890], 6: [1890, 2205], 7: [2205, 2520],\n",
    "                 8: [2520, 2835], 9: [2835, 3150], 10: [3150]}\n",
    "food_noalcnovit.loc [:,'energy_a_points'] = np.array(len(food_noalcnovit) * [0])\n",
    "for points in energy_points18:\n",
    "    interval = energy_points18[points]\n",
    "    if len(interval) == 2:\n",
    "        food_noalcnovit.loc[(food_noalcnovit['EnergykJ_per_100_g'] > interval[0]) & (food_noalcnovit['EnergykJ_per_100_g'] <= interval[1]),'energy_a_points'] = points\n",
    "    elif len(interval) == 1:\n",
    "        food_noalcnovit.loc[(food_noalcnovit['EnergykJ_per_100_g'] > interval[0]), 'energy_a_points'] = points"
   ]
  },
  {
   "cell_type": "code",
   "execution_count": 170,
   "metadata": {},
   "outputs": [],
   "source": [
    "satfat_points18 = {0: [-1, 0.9], 1: [0.9, 1.9], 2: [1.9, 2.8], 3: [2.8, 3.7], \n",
    "                 4: [3.7, 4.7], 5: [4.7, 5.6], 6: [5.6, 6.6], 7: [6.6, 7.5],\n",
    "                 8: [7.5, 8.4], 9: [8.4, 9.4], 10: [9.4]}\n",
    "food_noalcnovit.loc [:,'satfat_a_points'] = np.array(len(food_noalcnovit) * [0])\n",
    "for points in satfat_points18:\n",
    "    interval = satfat_points18[points]\n",
    "    if len(interval) == 2:\n",
    "        food_noalcnovit.loc[(food_noalcnovit['Saturatedfattyacidsg_per_100_g'] > interval[0]) & (food_noalcnovit['Saturatedfattyacidsg_per_100_g'] <= interval[1]),'satfat_a_points'] = points\n",
    "    elif len(interval) == 1:\n",
    "        food_noalcnovit.loc[(food_noalcnovit['Saturatedfattyacidsg_per_100_g'] > interval[0]), 'satfat_a_points'] = points"
   ]
  },
  {
   "cell_type": "code",
   "execution_count": 171,
   "metadata": {},
   "outputs": [],
   "source": [
    "freesugar_points = {0: [-1, 0.9], 1: [0.9, 1.9], 2: [1.9, 2.8], 3: [2.8, 3.7], \n",
    "                 4: [3.7, 4.6], 5: [4.6, 5.6], 6: [5.6, 6.5], 7: [6.5, 7.4],\n",
    "                 8: [7.4, 8.3], 9: [8.3, 9.3], 10: [9.3]}\n",
    "food_noalcnovit.loc[:,'freesugar_a_points'] = np.array(len(food_noalcnovit) * [0])\n",
    "for points in freesugar_points:\n",
    "    interval = freesugar_points[points]\n",
    "    if len(interval) == 2:\n",
    "        food_noalcnovit.loc[(food_noalcnovit['FreeSugarsg_per_100_g'] > interval[0]) & (food_noalcnovit['FreeSugarsg_per_100_g'] <= interval[1]),'freesugar_a_points'] = points\n",
    "    elif len(interval) == 1:\n",
    "        food_noalcnovit.loc[(food_noalcnovit['FreeSugarsg_per_100_g'] > interval[0]), 'freesugar_a_points'] = points"
   ]
  },
  {
   "cell_type": "code",
   "execution_count": 172,
   "metadata": {},
   "outputs": [],
   "source": [
    "salt_points = {0: [-1, 0.9], 1: [0.9, 1.9], 2: [1.9, 2.8], 3: [2.8, 3.7], \n",
    "                 4: [3.7, 4.6], 5: [4.6, 5.6], 6: [5.6, 6.5], 7: [6.5, 7.4],\n",
    "                 8: [7.4, 8.3], 9: [8.3, 9.3], 10: [9.3]}\n",
    "food_noalcnovit.loc [:,'salt_a_points'] = np.array(len(food_noalcnovit) * [0])\n",
    "for points in salt_points:\n",
    "    interval = salt_points[points]\n",
    "    if len(interval) == 2:\n",
    "        food_noalcnovit.loc[(food_noalcnovit['salt_per_100_g'] > interval[0])  & (food_noalcnovit['salt_per_100_g'] <= interval[1]),'salt_a_points'] = points\n",
    "    elif len(interval) == 1:\n",
    "        food_noalcnovit.loc[(food_noalcnovit['salt_per_100_g'] > interval[0]), 'salt_a_points'] = points"
   ]
  },
  {
   "cell_type": "code",
   "execution_count": 173,
   "metadata": {},
   "outputs": [],
   "source": [
    "food_noalcnovit.loc [:,'total_a_points'] = food_noalcnovit[\"energy_a_points\"] + food_noalcnovit[\"satfat_a_points\"] + food_noalcnovit[\"freesugar_a_points\"] + food_noalcnovit[\"salt_a_points\"] "
   ]
  },
  {
   "cell_type": "markdown",
   "metadata": {},
   "source": [
    "C POINTS"
   ]
  },
  {
   "cell_type": "code",
   "execution_count": 174,
   "metadata": {},
   "outputs": [],
   "source": [
    "smoothies = {0: [-1, 40], 1: [40, 60], 2: [60, 80], 5: [80]}\n",
    "food_noalcnovit.loc [:, 'smoothies'] = np.array(len(food_noalcnovit) * [0])\n",
    "for points in smoothies:\n",
    "    interval = smoothies[points]\n",
    "    if len(interval) == 2:\n",
    "        food_noalcnovit.loc[(food_noalcnovit['Smoothies_per_100_g'] > interval[0]) & (food_noalcnovit['Smoothies_per_100_g'] <= interval[1]),'smoothies'] = points\n",
    "    elif len(interval) == 1:\n",
    "        food_noalcnovit.loc[(food_noalcnovit['Smoothies_per_100_g'] > interval[0]), 'smoothies'] = points"
   ]
  },
  {
   "cell_type": "code",
   "execution_count": 175,
   "metadata": {},
   "outputs": [],
   "source": [
    "fruit_juices = {0: [-1, 40], 1: [40, 60], 2: [60, 80], 5: [80]}\n",
    "food_noalcnovit.loc [:, 'fruit_juice'] = np.array(len(food_noalcnovit) * [0])\n",
    "for points in fruit_juices:\n",
    "    interval = fruit_juices[points]\n",
    "    if len(interval) == 2:\n",
    "        food_noalcnovit.loc[(food_noalcnovit['Fruitjuice_per_100_g'] > interval[0]) & (food_noalcnovit['Fruitjuice_per_100_g'] <= interval[1]),'fruit_juice'] = points\n",
    "    elif len(interval) == 1:\n",
    "        food_noalcnovit.loc[(food_noalcnovit['Fruitjuice_per_100_g'] > interval[0]), 'fruit_juice'] = points"
   ]
  },
  {
   "cell_type": "code",
   "execution_count": 176,
   "metadata": {},
   "outputs": [],
   "source": [
    "fvn_points = {0: [-1, 40], 1: [40, 60], 2: [60, 80], 5: [80]} \n",
    "\n",
    "food_noalcnovit.loc [:,'fvn_c_points'] = np.array(len(food_noalcnovit) * [0])\n",
    "for points in fvn_points:\n",
    "    interval = fvn_points[points]\n",
    "    if len(interval) == 2:\n",
    "        food_noalcnovit.loc[(food_noalcnovit['fvn_per_100_g'] > interval[0])  & (food_noalcnovit['fvn_per_100_g'] <= interval[1]),'fvn_c_points'] = points\n",
    "    elif len(interval) == 1:\n",
    "        food_noalcnovit.loc[(food_noalcnovit['fvn_per_100_g'] > interval[0]), 'fvn_c_points'] = points"
   ]
  },
  {
   "cell_type": "code",
   "execution_count": 177,
   "metadata": {},
   "outputs": [],
   "source": [
    "aoacfibre_points = {0: [-1, 0.7], 1: [0.7, 1.4], 2: [1.4, 2.2], 3: [2.2, 2.9], 4: [2.9, 3.6], 5: [3.6, 4.3], 6: [4.3, 5.0], 7:[5.0, 5.8],8:[5.8]} \n",
    "\n",
    "food_noalcnovit.loc [:,'aoacfibre_c_points'] = np.array(len(food_noalcnovit) * [0])\n",
    "for points in aoacfibre_points:\n",
    "    interval = aoacfibre_points[points]\n",
    "    if len(interval) == 2:\n",
    "        food_noalcnovit.loc[(food_noalcnovit['AOACFibreg_per_100_g'] > interval[0]) & (food_noalcnovit['AOACFibreg_per_100_g'] <= interval[1]),'aoacfibre_c_points'] = points\n",
    "    elif len(interval) == 1:\n",
    "        food_noalcnovit.loc[(food_noalcnovit['AOACFibreg_per_100_g'] > interval[0]), 'aoacfibre_c_points'] = points"
   ]
  },
  {
   "cell_type": "code",
   "execution_count": 178,
   "metadata": {},
   "outputs": [],
   "source": [
    "protein_points = {0: [-1, 1.6], 1: [1.6, 3.2], 2: [3.2, 4.8], 3: [4.8, 6.4], 4: [6.4, 8.0], 5: [8.0]} \n",
    "\n",
    "food_noalcnovit.loc[:,'protein_c_points'] = np.array(len(food_noalcnovit) * [0])\n",
    "for points in protein_points:\n",
    "    interval = protein_points[points]\n",
    "    if len(interval) == 2:\n",
    "        food_noalcnovit.loc[(food_noalcnovit['Proteing_per_100_g'] > interval[0]) & (food_noalcnovit['Proteing_per_100_g'] <= interval[1]) & (food_noalcnovit['total_a_points'] < 11),'protein_c_points'] = points\n",
    "        food_noalcnovit.loc[(food_noalcnovit['Proteing_per_100_g'] > interval[0]) & (food_noalcnovit['Proteing_per_100_g'] <= interval[1])  & (food_noalcnovit['total_a_points'] >= 11)  & (food_noalcnovit['fvn_c_points'] >= 5),'protein_c_points'] = points\n",
    "    elif len(interval) == 1:\n",
    "        food_noalcnovit.loc[(food_noalcnovit['Proteing_per_100_g'] > interval[0]) & (food_noalcnovit['total_a_points'] < 11), 'protein_c_points'] = points\n",
    "        food_noalcnovit.loc[(food_noalcnovit['Proteing_per_100_g'] > interval[0]) & (food_noalcnovit['total_a_points'] >= 11) & (food_noalcnovit['fvn_c_points'] >= 5), 'protein_c_points'] = points"
   ]
  },
  {
   "cell_type": "code",
   "execution_count": 179,
   "metadata": {},
   "outputs": [],
   "source": [
    "food_noalcnovit.loc [:,'total_c_points'] = food_noalcnovit[\"fvn_c_points\"] + food_noalcnovit[\"aoacfibre_c_points\"] + food_noalcnovit[\"protein_c_points\"]+food_noalcnovit['fruit_juice']+ food_noalcnovit['smoothies']"
   ]
  },
  {
   "cell_type": "markdown",
   "metadata": {},
   "source": [
    "TOTAL POINTS"
   ]
  },
  {
   "cell_type": "code",
   "execution_count": 180,
   "metadata": {},
   "outputs": [],
   "source": [
    "food_noalcnovit.loc[:, \"total_points\"] = food_noalcnovit[\"total_a_points\"]-food_noalcnovit [\"total_c_points\"]"
   ]
  },
  {
   "cell_type": "code",
   "execution_count": 181,
   "metadata": {},
   "outputs": [],
   "source": [
    "food_noalcnovit.loc [:,\"lesshealthy\"] = food_noalcnovit[\"total_points\"] >= 4 "
   ]
  },
  {
   "cell_type": "markdown",
   "metadata": {},
   "source": [
    "Create a drink set - include all drink names (Remove fruit juice and smoothies since they are calculated elsewhere)"
   ]
  },
  {
   "cell_type": "code",
   "execution_count": 182,
   "metadata": {},
   "outputs": [],
   "source": [
    "drink_set={'SEMI SKIMMED MILK','SKIMMED MILK', 'SOFT DRINKS NOT LOW CALORIE', 'SOFT DRINKS LOW CALORIE', 'COMMERCIAL TODDLERS FOODS AND DRINKS', \n",
    "       '1% Fat Milk', 'TEA COFFEE AND WATER', 'WHOLE MILK'} "
   ]
  },
  {
   "cell_type": "code",
   "execution_count": 183,
   "metadata": {},
   "outputs": [],
   "source": [
    "drink_set2={'ACTIMEL PROBIOTIC DRINKING YOGURT',\n",
    "'ACTIMEL PROBIOTIC YOGURT DRINK 0.1% FAT',\n",
    "'BENECOL PLUS HEART YOGURT DRINK', 'BENECOL YOGURT DRINKS',\n",
    "'BENECOL YOGURT DRINKS, CONTAINING STANOLS',\n",
    "'CHILDRENS YOGURT DRINK WITH OMEGA 3, CALCIUM AND VITAMIN D',\n",
    "'CHILDRENS YOGURT DRINK WITH VITAMIN D',\n",
    "'MULLER VITALITY PROBIOTIC DRINK',\n",
    "'MULLER VITALITY PROBIOTIC DRINK WITH OMEGA 3',\n",
    "'OPTIFIT YOGURT DRINKS, ANY FLAVOUR, FORTIFIED WITH VITS C, E, B6',\n",
    "'SMOOTHIES WITH FRUIT AND DAIRY PRODUCTS, BOTTLED, PURCHASED, NOT FORTIFIED',\n",
    "'YAKULT', 'YOGURT DRINK', 'YOGURT DRINK CONTAINING FRUIT PUREE',\n",
    "'YOGURT DRINK FORTIFIED WITH VITAMINS B6, C AND D'}"
   ]
  },
  {
   "cell_type": "code",
   "execution_count": 184,
   "metadata": {},
   "outputs": [],
   "source": [
    "food_noalcnovit.loc[food_noalcnovit['MainFoodGroupDesc'].isin(drink_set), 'lesshealthy'] = food_noalcnovit.loc[food_noalcnovit['MainFoodGroupDesc'].isin(drink_set), \"total_points\"]>= 1 "
   ]
  },
  {
   "cell_type": "code",
   "execution_count": 185,
   "metadata": {},
   "outputs": [],
   "source": [
    "food_noalcnovit.loc[food_noalcnovit['FoodName'].isin(drink_set2), 'lesshealthy'] = food_noalcnovit.loc[food_noalcnovit['FoodName'].isin(drink_set2), \"total_points\"]>= 1 "
   ]
  },
  {
   "cell_type": "markdown",
   "metadata": {},
   "source": [
    "Calculate the proportion of HFSS foods"
   ]
  },
  {
   "cell_type": "code",
   "execution_count": 186,
   "metadata": {},
   "outputs": [
    {
     "data": {
      "text/plain": [
       "0.31760162944655923"
      ]
     },
     "execution_count": 186,
     "metadata": {},
     "output_type": "execute_result"
    }
   ],
   "source": [
    "np.sum(food_noalcnovit[\"lesshealthy\"])/len(food_noalcnovit[\"lesshealthy\"])"
   ]
  },
  {
   "cell_type": "markdown",
   "metadata": {},
   "source": [
    "Calculate the overlap between UPF and HFSS based on UPF sample"
   ]
  },
  {
   "cell_type": "code",
   "execution_count": 187,
   "metadata": {},
   "outputs": [
    {
     "data": {
      "text/plain": [
       "0.5441015679245073"
      ]
     },
     "execution_count": 187,
     "metadata": {},
     "output_type": "execute_result"
    }
   ],
   "source": [
    "np.sum((food_noalcnovit[\"NOVA_UPF_NUPF_boolean\"])*(food_noalcnovit[\"lesshealthy\"]))/len(food_noalcnovit[food_noalcnovit[\"NOVA_UPF_NUPF_boolean\"]])"
   ]
  },
  {
   "cell_type": "markdown",
   "metadata": {},
   "source": [
    "Summarise HFSS (NPM 2018); UPFs; HFSS (NPM 2018) and UPFs; Neither HFSS (NPM 2018) nor UPFs\n"
   ]
  },
  {
   "cell_type": "code",
   "execution_count": 188,
   "metadata": {},
   "outputs": [
    {
     "name": "stdout",
     "output_type": "stream",
     "text": [
      "0.5173157596011463\n",
      "0.16508261095229454\n",
      "0.1205803169421521\n",
      "0.1970213125044071\n"
     ]
    }
   ],
   "source": [
    "value_notupf_healthy = np.sum((~food_noalcnovit[\"NOVA_UPF_NUPF_boolean\"])*~food_noalcnovit[\"lesshealthy\"])/len(food_noalcnovit)\n",
    "value_upf_healthy = np.sum((food_noalcnovit[\"NOVA_UPF_NUPF_boolean\"])*~food_noalcnovit[\"lesshealthy\"])/len(food_noalcnovit)\n",
    "value_notupf_lesshealthy = np.sum((~food_noalcnovit[\"NOVA_UPF_NUPF_boolean\"])*food_noalcnovit[\"lesshealthy\"])/len(food_noalcnovit)\n",
    "value_upf_lesshealthy = np.sum((food_noalcnovit[\"NOVA_UPF_NUPF_boolean\"])*food_noalcnovit[\"lesshealthy\"])/len(food_noalcnovit)\n",
    "print (value_notupf_healthy)\n",
    "print (value_upf_healthy)\n",
    "print (value_notupf_lesshealthy)\n",
    "print (value_upf_lesshealthy)"
   ]
  },
  {
   "cell_type": "markdown",
   "metadata": {},
   "source": [
    "weight by energy"
   ]
  },
  {
   "cell_type": "code",
   "execution_count": 189,
   "metadata": {},
   "outputs": [
    {
     "data": {
      "text/plain": [
       "0.4372646972022005"
      ]
     },
     "execution_count": 189,
     "metadata": {},
     "output_type": "execute_result"
    }
   ],
   "source": [
    "np.sum((food_noalcnovit[\"lesshealthy\"])*(food_noalcnovit['Energykcal']))/np.sum(food_noalcnovit[\"Energykcal\"])"
   ]
  },
  {
   "cell_type": "markdown",
   "metadata": {},
   "source": [
    "Create a UPF sample"
   ]
  },
  {
   "cell_type": "code",
   "execution_count": 190,
   "metadata": {},
   "outputs": [],
   "source": [
    "food_noalcnovit_upf = food_noalcnovit[food_noalcnovit['NOVA_UPF_NUPF_boolean']]"
   ]
  },
  {
   "cell_type": "markdown",
   "metadata": {},
   "source": [
    "UPF and HFSS overlap weighted by energy"
   ]
  },
  {
   "cell_type": "code",
   "execution_count": 191,
   "metadata": {},
   "outputs": [
    {
     "data": {
      "text/plain": [
       "0.5426915996809162"
      ]
     },
     "execution_count": 191,
     "metadata": {},
     "output_type": "execute_result"
    }
   ],
   "source": [
    "np.sum((food_noalcnovit_upf[\"NOVA_UPF_NUPF_boolean\"])*(food_noalcnovit_upf[\"lesshealthy\"])*(food_noalcnovit_upf['Energykcal']))/np.sum (food_noalcnovit_upf[\"Energykcal\"])"
   ]
  },
  {
   "cell_type": "markdown",
   "metadata": {},
   "source": [
    "Proportion of weight from UPFs"
   ]
  },
  {
   "cell_type": "code",
   "execution_count": 192,
   "metadata": {},
   "outputs": [
    {
     "data": {
      "text/plain": [
       "0.32859279799964913"
      ]
     },
     "execution_count": 192,
     "metadata": {},
     "output_type": "execute_result"
    }
   ],
   "source": [
    "np.sum((food_noalcnovit[\"NOVA_UPF_NUPF_boolean\"])*(food_noalcnovit['TotalGrams']))/np.sum(food_noalcnovit[\"TotalGrams\"])"
   ]
  },
  {
   "cell_type": "markdown",
   "metadata": {},
   "source": [
    "Proportion of weight from HFSS"
   ]
  },
  {
   "cell_type": "code",
   "execution_count": 193,
   "metadata": {},
   "outputs": [
    {
     "data": {
      "text/plain": [
       "0.17666430952513923"
      ]
     },
     "execution_count": 193,
     "metadata": {},
     "output_type": "execute_result"
    }
   ],
   "source": [
    "np.sum((food_noalcnovit[\"lesshealthy\"])*(food_noalcnovit['TotalGrams']))/np.sum(food_noalcnovit[\"TotalGrams\"])"
   ]
  },
  {
   "cell_type": "markdown",
   "metadata": {},
   "source": [
    "Create a UPF sample"
   ]
  },
  {
   "cell_type": "code",
   "execution_count": 194,
   "metadata": {},
   "outputs": [],
   "source": [
    "food_noalcnovit_upf = food_noalcnovit[food_noalcnovit['NOVA_UPF_NUPF_boolean']]"
   ]
  },
  {
   "cell_type": "markdown",
   "metadata": {},
   "source": [
    "Fraction of HFSS in the UPF by weight"
   ]
  },
  {
   "cell_type": "code",
   "execution_count": 195,
   "metadata": {},
   "outputs": [
    {
     "data": {
      "text/plain": [
       "0.4065892784137108"
      ]
     },
     "execution_count": 195,
     "metadata": {},
     "output_type": "execute_result"
    }
   ],
   "source": [
    "np.sum((food_noalcnovit_upf[\"NOVA_UPF_NUPF_boolean\"])*(food_noalcnovit_upf[\"lesshealthy\"])*(food_noalcnovit_upf['TotalGrams']))/np.sum (food_noalcnovit_upf[\"TotalGrams\"])"
   ]
  },
  {
   "cell_type": "markdown",
   "metadata": {},
   "source": [
    "Sub-group analyses"
   ]
  },
  {
   "cell_type": "markdown",
   "metadata": {},
   "source": [
    "For males"
   ]
  },
  {
   "cell_type": "code",
   "execution_count": 196,
   "metadata": {},
   "outputs": [],
   "source": [
    "food_noalcnovit_male = food_noalcnovit[food_noalcnovit['Sex']==1]"
   ]
  },
  {
   "cell_type": "markdown",
   "metadata": {},
   "source": [
    "proportion of HFSS"
   ]
  },
  {
   "cell_type": "code",
   "execution_count": 197,
   "metadata": {},
   "outputs": [
    {
     "data": {
      "text/plain": [
       "0.33224495877492355"
      ]
     },
     "execution_count": 197,
     "metadata": {},
     "output_type": "execute_result"
    }
   ],
   "source": [
    "np.sum(food_noalcnovit_male[\"lesshealthy\"])/len(food_noalcnovit_male[\"lesshealthy\"])"
   ]
  },
  {
   "cell_type": "markdown",
   "metadata": {},
   "source": [
    "proportion of UPF"
   ]
  },
  {
   "cell_type": "code",
   "execution_count": 198,
   "metadata": {},
   "outputs": [
    {
     "data": {
      "text/plain": [
       "0.3817728516911979"
      ]
     },
     "execution_count": 198,
     "metadata": {},
     "output_type": "execute_result"
    }
   ],
   "source": [
    "np.sum(food_noalcnovit_male[\"NOVA_UPF_NUPF_boolean\"])/len(food_noalcnovit_male[\"NOVA_UPF_NUPF_boolean\"])"
   ]
  },
  {
   "cell_type": "markdown",
   "metadata": {},
   "source": [
    "overlap between UPF and HFSS among UPF sample"
   ]
  },
  {
   "cell_type": "code",
   "execution_count": 199,
   "metadata": {},
   "outputs": [
    {
     "data": {
      "text/plain": [
       "0.5459790997974578"
      ]
     },
     "execution_count": 199,
     "metadata": {},
     "output_type": "execute_result"
    }
   ],
   "source": [
    "np.sum((food_noalcnovit_male[\"NOVA_UPF_NUPF_boolean\"])*(food_noalcnovit_male[\"lesshealthy\"]))/len(food_noalcnovit_male[food_noalcnovit_male[\"NOVA_UPF_NUPF_boolean\"]])"
   ]
  },
  {
   "cell_type": "markdown",
   "metadata": {},
   "source": [
    "Summaries for males only"
   ]
  },
  {
   "cell_type": "code",
   "execution_count": 200,
   "metadata": {},
   "outputs": [
    {
     "name": "stdout",
     "output_type": "stream",
     "text": [
      "0.49442218742734717\n",
      "0.1733328537977293\n",
      "0.12380496088145494\n",
      "0.2084399978934686\n"
     ]
    }
   ],
   "source": [
    "value_notupf_healthy_m = np.sum((~food_noalcnovit_male[\"NOVA_UPF_NUPF_boolean\"])*~food_noalcnovit_male[\"lesshealthy\"])/len(food_noalcnovit_male)\n",
    "value_upf_healthy_m = np.sum((food_noalcnovit_male[\"NOVA_UPF_NUPF_boolean\"])*~food_noalcnovit_male[\"lesshealthy\"])/len(food_noalcnovit_male)\n",
    "value_notupf_lesshealthy_m = np.sum((~food_noalcnovit_male[\"NOVA_UPF_NUPF_boolean\"])*food_noalcnovit_male[\"lesshealthy\"])/len(food_noalcnovit_male)\n",
    "value_upf_lesshealthy_m = np.sum((food_noalcnovit_male[\"NOVA_UPF_NUPF_boolean\"])*food_noalcnovit_male[\"lesshealthy\"])/len(food_noalcnovit_male)\n",
    "print (value_notupf_healthy_m)\n",
    "print (value_upf_healthy_m)\n",
    "print (value_notupf_lesshealthy_m)\n",
    "print (value_upf_lesshealthy_m)"
   ]
  },
  {
   "cell_type": "markdown",
   "metadata": {},
   "source": [
    "For females"
   ]
  },
  {
   "cell_type": "code",
   "execution_count": 201,
   "metadata": {},
   "outputs": [],
   "source": [
    "food_noalcnovit_female = food_noalcnovit[food_noalcnovit['Sex']==2]"
   ]
  },
  {
   "cell_type": "markdown",
   "metadata": {},
   "source": [
    "proportion of HFSS"
   ]
  },
  {
   "cell_type": "code",
   "execution_count": 202,
   "metadata": {},
   "outputs": [
    {
     "data": {
      "text/plain": [
       "0.305621845534017"
      ]
     },
     "execution_count": 202,
     "metadata": {},
     "output_type": "execute_result"
    }
   ],
   "source": [
    "np.sum(food_noalcnovit_female[\"lesshealthy\"])/len(food_noalcnovit_female[\"lesshealthy\"])"
   ]
  },
  {
   "cell_type": "markdown",
   "metadata": {},
   "source": [
    "proportion of UPF"
   ]
  },
  {
   "cell_type": "code",
   "execution_count": 203,
   "metadata": {},
   "outputs": [
    {
     "data": {
      "text/plain": [
       "0.34601267093094246"
      ]
     },
     "execution_count": 203,
     "metadata": {},
     "output_type": "execute_result"
    }
   ],
   "source": [
    "np.sum(food_noalcnovit_female[\"NOVA_UPF_NUPF_boolean\"])/len(food_noalcnovit_female[\"NOVA_UPF_NUPF_boolean\"])"
   ]
  },
  {
   "cell_type": "markdown",
   "metadata": {},
   "source": [
    "Overlap between UPF and HFSS among UPFs"
   ]
  },
  {
   "cell_type": "code",
   "execution_count": 204,
   "metadata": {},
   "outputs": [
    {
     "data": {
      "text/plain": [
       "0.5424068028243869"
      ]
     },
     "execution_count": 204,
     "metadata": {},
     "output_type": "execute_result"
    }
   ],
   "source": [
    "np.sum((food_noalcnovit_female[\"NOVA_UPF_NUPF_boolean\"])*(food_noalcnovit_female[\"lesshealthy\"]))/len(food_noalcnovit_female[food_noalcnovit_female[\"NOVA_UPF_NUPF_boolean\"]])"
   ]
  },
  {
   "cell_type": "markdown",
   "metadata": {},
   "source": [
    "Summaries for females"
   ]
  },
  {
   "cell_type": "code",
   "execution_count": 205,
   "metadata": {},
   "outputs": [
    {
     "name": "stdout",
     "output_type": "stream",
     "text": [
      "0.5360451101114198\n",
      "0.1583330443545633\n",
      "0.11794221895763782\n",
      "0.18767962657637918\n"
     ]
    }
   ],
   "source": [
    "value_notupf_healthy_f = np.sum((~food_noalcnovit_female[\"NOVA_UPF_NUPF_boolean\"])*~food_noalcnovit_female[\"lesshealthy\"])/len(food_noalcnovit_female)\n",
    "value_upf_healthy_f = np.sum((food_noalcnovit_female[\"NOVA_UPF_NUPF_boolean\"])*~food_noalcnovit_female[\"lesshealthy\"])/len(food_noalcnovit_female)\n",
    "value_notupf_lesshealthy_f = np.sum((~food_noalcnovit_female[\"NOVA_UPF_NUPF_boolean\"])*food_noalcnovit_female[\"lesshealthy\"])/len(food_noalcnovit_female)\n",
    "value_upf_lesshealthy_f = np.sum((food_noalcnovit_female[\"NOVA_UPF_NUPF_boolean\"])*food_noalcnovit_female[\"lesshealthy\"])/len(food_noalcnovit_female)\n",
    "print (value_notupf_healthy_f)\n",
    "print (value_upf_healthy_f)\n",
    "print (value_notupf_lesshealthy_f)\n",
    "print (value_upf_lesshealthy_f)"
   ]
  },
  {
   "cell_type": "markdown",
   "metadata": {},
   "source": [
    "Weighted by energy"
   ]
  },
  {
   "cell_type": "code",
   "execution_count": 206,
   "metadata": {},
   "outputs": [
    {
     "data": {
      "text/plain": [
       "0.43479221416628416"
      ]
     },
     "execution_count": 206,
     "metadata": {},
     "output_type": "execute_result"
    }
   ],
   "source": [
    "np.sum((food_noalcnovit_female[\"lesshealthy\"])*(food_noalcnovit_female['Energykcal']))/np.sum(food_noalcnovit_female[\"Energykcal\"])"
   ]
  },
  {
   "cell_type": "code",
   "execution_count": 207,
   "metadata": {},
   "outputs": [
    {
     "data": {
      "text/plain": [
       "0.43973379012410746"
      ]
     },
     "execution_count": 207,
     "metadata": {},
     "output_type": "execute_result"
    }
   ],
   "source": [
    "np.sum((food_noalcnovit_male[\"lesshealthy\"])*(food_noalcnovit_male['Energykcal']))/np.sum(food_noalcnovit_male[\"Energykcal\"])"
   ]
  },
  {
   "cell_type": "markdown",
   "metadata": {},
   "source": [
    "Create a UPF sample"
   ]
  },
  {
   "cell_type": "code",
   "execution_count": 208,
   "metadata": {},
   "outputs": [],
   "source": [
    "food_noalcnovit_upf_male = food_noalcnovit_male[food_noalcnovit_male['NOVA_UPF_NUPF_boolean']]"
   ]
  },
  {
   "cell_type": "markdown",
   "metadata": {},
   "source": [
    "Fraction of HFSS within UPF by energy"
   ]
  },
  {
   "cell_type": "code",
   "execution_count": 209,
   "metadata": {},
   "outputs": [
    {
     "data": {
      "text/plain": [
       "0.5388896862154122"
      ]
     },
     "execution_count": 209,
     "metadata": {},
     "output_type": "execute_result"
    }
   ],
   "source": [
    "np.sum((food_noalcnovit_upf_male[\"NOVA_UPF_NUPF_boolean\"])*(food_noalcnovit_upf_male[\"lesshealthy\"])*(food_noalcnovit_upf_male['Energykcal']))/np.sum (food_noalcnovit_upf_male[\"Energykcal\"])"
   ]
  },
  {
   "cell_type": "code",
   "execution_count": 210,
   "metadata": {},
   "outputs": [
    {
     "data": {
      "text/plain": [
       "0.43479221416628416"
      ]
     },
     "execution_count": 210,
     "metadata": {},
     "output_type": "execute_result"
    }
   ],
   "source": [
    "np.sum((food_noalcnovit_female[\"lesshealthy\"])*(food_noalcnovit_female['Energykcal']))/np.sum(food_noalcnovit_female[\"Energykcal\"])"
   ]
  },
  {
   "cell_type": "code",
   "execution_count": 211,
   "metadata": {},
   "outputs": [],
   "source": [
    "food_noalcnovit_upf_female = food_noalcnovit_female[food_noalcnovit_female['NOVA_UPF_NUPF_boolean']]"
   ]
  },
  {
   "cell_type": "code",
   "execution_count": 212,
   "metadata": {},
   "outputs": [
    {
     "data": {
      "text/plain": [
       "0.5466535030430354"
      ]
     },
     "execution_count": 212,
     "metadata": {},
     "output_type": "execute_result"
    }
   ],
   "source": [
    "np.sum((food_noalcnovit_upf_female[\"NOVA_UPF_NUPF_boolean\"])*(food_noalcnovit_upf_female[\"lesshealthy\"])*(food_noalcnovit_upf_female['Energykcal']))/np.sum (food_noalcnovit_upf_female[\"Energykcal\"])"
   ]
  },
  {
   "cell_type": "code",
   "execution_count": 213,
   "metadata": {},
   "outputs": [
    {
     "data": {
      "text/plain": [
       "0.1945902662295368"
      ]
     },
     "execution_count": 213,
     "metadata": {},
     "output_type": "execute_result"
    }
   ],
   "source": [
    "np.sum((food_noalcnovit_male[\"lesshealthy\"])*(food_noalcnovit_male['TotalGrams']))/np.sum(food_noalcnovit_male[\"TotalGrams\"])"
   ]
  },
  {
   "cell_type": "code",
   "execution_count": 214,
   "metadata": {},
   "outputs": [
    {
     "data": {
      "text/plain": [
       "35.746006884018826"
      ]
     },
     "execution_count": 214,
     "metadata": {},
     "output_type": "execute_result"
    }
   ],
   "source": [
    "np.sum((food_noalcnovit_upf_male[\"NOVA_UPF_NUPF_boolean\"])*(food_noalcnovit_upf_male[\"lesshealthy\"])*(food_noalcnovit_upf_male['TotalGrams']))/np.sum (food_noalcnovit_upf_male[\"NOVA_UPF_NUPF_boolean\"])"
   ]
  },
  {
   "cell_type": "code",
   "execution_count": 215,
   "metadata": {},
   "outputs": [
    {
     "data": {
      "text/plain": [
       "0.16100262602648607"
      ]
     },
     "execution_count": 215,
     "metadata": {},
     "output_type": "execute_result"
    }
   ],
   "source": [
    "np.sum((food_noalcnovit_female[\"lesshealthy\"])*(food_noalcnovit_female['TotalGrams']))/np.sum(food_noalcnovit_female[\"TotalGrams\"])"
   ]
  },
  {
   "cell_type": "code",
   "execution_count": 216,
   "metadata": {},
   "outputs": [
    {
     "data": {
      "text/plain": [
       "0.3963262089087586"
      ]
     },
     "execution_count": 216,
     "metadata": {},
     "output_type": "execute_result"
    }
   ],
   "source": [
    "np.sum((food_noalcnovit_upf_female[\"NOVA_UPF_NUPF_boolean\"])*(food_noalcnovit_upf_female[\"lesshealthy\"])*(food_noalcnovit_upf_female['TotalGrams']))/np.sum (food_noalcnovit_upf_female[\"TotalGrams\"])"
   ]
  },
  {
   "cell_type": "code",
   "execution_count": 217,
   "metadata": {},
   "outputs": [
    {
     "data": {
      "text/plain": [
       "0.3556992454939843"
      ]
     },
     "execution_count": 217,
     "metadata": {},
     "output_type": "execute_result"
    }
   ],
   "source": [
    "np.sum((food_noalcnovit_male[\"NOVA_UPF_NUPF_boolean\"])*(food_noalcnovit_male['TotalGrams']))/np.sum(food_noalcnovit_male[\"TotalGrams\"])"
   ]
  },
  {
   "cell_type": "code",
   "execution_count": 218,
   "metadata": {},
   "outputs": [
    {
     "data": {
      "text/plain": [
       "35.746006884018826"
      ]
     },
     "execution_count": 218,
     "metadata": {},
     "output_type": "execute_result"
    }
   ],
   "source": [
    "np.sum((food_noalcnovit_male[\"NOVA_UPF_NUPF_boolean\"])*(food_noalcnovit_male[\"lesshealthy\"])*(food_noalcnovit_male['TotalGrams']))/np.sum (food_noalcnovit_male[\"NOVA_UPF_NUPF_boolean\"])"
   ]
  },
  {
   "cell_type": "code",
   "execution_count": 219,
   "metadata": {},
   "outputs": [
    {
     "data": {
      "text/plain": [
       "0.30491023486342345"
      ]
     },
     "execution_count": 219,
     "metadata": {},
     "output_type": "execute_result"
    }
   ],
   "source": [
    "np.sum((food_noalcnovit_female[\"NOVA_UPF_NUPF_boolean\"])*(food_noalcnovit_female['TotalGrams']))/np.sum(food_noalcnovit_female[\"TotalGrams\"])"
   ]
  },
  {
   "cell_type": "code",
   "execution_count": 220,
   "metadata": {},
   "outputs": [
    {
     "data": {
      "text/plain": [
       "30.11305986890963"
      ]
     },
     "execution_count": 220,
     "metadata": {},
     "output_type": "execute_result"
    }
   ],
   "source": [
    "np.sum((food_noalcnovit_female[\"NOVA_UPF_NUPF_boolean\"])*(food_noalcnovit_female[\"lesshealthy\"])*(food_noalcnovit_female['TotalGrams']))/np.sum (food_noalcnovit_female[\"NOVA_UPF_NUPF_boolean\"])"
   ]
  }
 ],
 "metadata": {
  "kernelspec": {
   "display_name": "Python 3",
   "language": "python",
   "name": "python3"
  },
  "language_info": {
   "codemirror_mode": {
    "name": "ipython",
    "version": 3
   },
   "file_extension": ".py",
   "mimetype": "text/x-python",
   "name": "python",
   "nbconvert_exporter": "python",
   "pygments_lexer": "ipython3",
   "version": "3.11.4"
  }
 },
 "nbformat": 4,
 "nbformat_minor": 2
}
