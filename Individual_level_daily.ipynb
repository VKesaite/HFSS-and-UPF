{
 "cells": [
  {
   "cell_type": "code",
   "execution_count": 12,
   "metadata": {},
   "outputs": [],
   "source": [
    "import warnings\n",
    "warnings.filterwarnings(\"ignore\")"
   ]
  },
  {
   "cell_type": "code",
   "execution_count": 13,
   "metadata": {},
   "outputs": [],
   "source": [
    "import statsmodels.api as sm\n",
    "import statsmodels.formula.api as smf\n",
    "import statsmodels\n",
    "import matplotlib.pyplot as plt\n",
    "\n",
    "import pandas as pd\n",
    "import numpy as np \n",
    "import matplotlib.pyplot as plt\n",
    "\n",
    "food = pd.read_csv(\"/Users/viktorijakesaite/Desktop/CAMBRIDGE POSTDOC/UPF/data files/foodleveldietarydatauk_new.csv\", encoding='latin1')"
   ]
  },
  {
   "cell_type": "code",
   "execution_count": 14,
   "metadata": {},
   "outputs": [],
   "source": [
    "def weighted_avg_and_std(values, weights):\n",
    "    \"\"\"\n",
    "    Return the weighted average and standard deviation.\n",
    "\n",
    "    They weights are in effect first normalized so that they \n",
    "    sum to 1 (and so they must not all be 0).\n",
    "\n",
    "    values, weights -- NumPy ndarrays with the same shape.\n",
    "    \"\"\"\n",
    "    average = np.average(values, weights=weights)\n",
    "    # Fast and numerically precise:\n",
    "    variance = np.average((values-average)**2, weights=weights)\n",
    "    return (average, np.sqrt(variance), len (values))"
   ]
  },
  {
   "cell_type": "markdown",
   "metadata": {},
   "source": [
    "Removing missing values: person day missing observations"
   ]
  },
  {
   "cell_type": "code",
   "execution_count": 15,
   "metadata": {},
   "outputs": [],
   "source": [
    "def list_wo_nan (l):\n",
    "    result_0 = []\n",
    "    result_1 = []\n",
    "    for y in l:\n",
    "        if y[1] == y[1]:\n",
    "            result_0.append(y[0])\n",
    "            result_1.append(y[1])\n",
    "        else:\n",
    "            print ('NaN')\n",
    "    return result_0, result_1"
   ]
  },
  {
   "cell_type": "code",
   "execution_count": 16,
   "metadata": {},
   "outputs": [],
   "source": [
    "food2 = pd.read_csv (\"/Users/viktorijakesaite/Desktop/CAMBRIDGE POSTDOC/UPF/reduced_dataset.csv\", encoding='latin1')"
   ]
  },
  {
   "cell_type": "markdown",
   "metadata": {},
   "source": [
    "Merge food level and individual level datasets"
   ]
  },
  {
   "cell_type": "code",
   "execution_count": 17,
   "metadata": {},
   "outputs": [],
   "source": [
    "food_final = food.merge(food2, left_on='seriali', right_on='seriali', how = 'left')"
   ]
  },
  {
   "cell_type": "code",
   "execution_count": 18,
   "metadata": {},
   "outputs": [
    {
     "data": {
      "text/html": [
       "<div>\n",
       "<style scoped>\n",
       "    .dataframe tbody tr th:only-of-type {\n",
       "        vertical-align: middle;\n",
       "    }\n",
       "\n",
       "    .dataframe tbody tr th {\n",
       "        vertical-align: top;\n",
       "    }\n",
       "\n",
       "    .dataframe thead th {\n",
       "        text-align: right;\n",
       "    }\n",
       "</style>\n",
       "<table border=\"1\" class=\"dataframe\">\n",
       "  <thead>\n",
       "    <tr style=\"text-align: right;\">\n",
       "      <th></th>\n",
       "      <th>seriali</th>\n",
       "      <th>SurveyYear</th>\n",
       "      <th>Age</th>\n",
       "      <th>Sex</th>\n",
       "      <th>Country</th>\n",
       "      <th>diarymth</th>\n",
       "      <th>DayofWeek</th>\n",
       "      <th>DayNo</th>\n",
       "      <th>DiaryDaysCompleted</th>\n",
       "      <th>MealTimeDescription</th>\n",
       "      <th>...</th>\n",
       "      <th>wtr_Y78</th>\n",
       "      <th>wtn_Y78</th>\n",
       "      <th>wtb_Y78</th>\n",
       "      <th>wtsu_Y78</th>\n",
       "      <th>GOR</th>\n",
       "      <th>wti_Y9</th>\n",
       "      <th>wti_UKY1234rs</th>\n",
       "      <th>wti_Y56rs</th>\n",
       "      <th>wti_Y78rs</th>\n",
       "      <th>wti_Y911rs</th>\n",
       "    </tr>\n",
       "  </thead>\n",
       "  <tbody>\n",
       "    <tr>\n",
       "      <th>0</th>\n",
       "      <td>40322051</td>\n",
       "      <td>NDNS Year 4</td>\n",
       "      <td>60.0</td>\n",
       "      <td>2</td>\n",
       "      <td>Scotland</td>\n",
       "      <td>February</td>\n",
       "      <td>Friday</td>\n",
       "      <td>1</td>\n",
       "      <td>4</td>\n",
       "      <td>5pm to 7:59pm</td>\n",
       "      <td>...</td>\n",
       "      <td>NaN</td>\n",
       "      <td>NaN</td>\n",
       "      <td>NaN</td>\n",
       "      <td>NaN</td>\n",
       "      <td>NaN</td>\n",
       "      <td>NaN</td>\n",
       "      <td>0.159795</td>\n",
       "      <td>NaN</td>\n",
       "      <td>NaN</td>\n",
       "      <td>NaN</td>\n",
       "    </tr>\n",
       "    <tr>\n",
       "      <th>1</th>\n",
       "      <td>10513211</td>\n",
       "      <td>NDNS Year 1</td>\n",
       "      <td>50.0</td>\n",
       "      <td>1</td>\n",
       "      <td>Scotland</td>\n",
       "      <td>September</td>\n",
       "      <td>Sunday</td>\n",
       "      <td>4</td>\n",
       "      <td>4</td>\n",
       "      <td>12 noon to 1:59pm</td>\n",
       "      <td>...</td>\n",
       "      <td>NaN</td>\n",
       "      <td>NaN</td>\n",
       "      <td>NaN</td>\n",
       "      <td>NaN</td>\n",
       "      <td>NaN</td>\n",
       "      <td>NaN</td>\n",
       "      <td>0.345726</td>\n",
       "      <td>NaN</td>\n",
       "      <td>NaN</td>\n",
       "      <td>NaN</td>\n",
       "    </tr>\n",
       "    <tr>\n",
       "      <th>2</th>\n",
       "      <td>50308182</td>\n",
       "      <td>NDNS Year 5</td>\n",
       "      <td>1.0</td>\n",
       "      <td>1</td>\n",
       "      <td>England</td>\n",
       "      <td>NaN</td>\n",
       "      <td>Wednesday</td>\n",
       "      <td>1</td>\n",
       "      <td>4</td>\n",
       "      <td>2pm to 4:59pm</td>\n",
       "      <td>...</td>\n",
       "      <td>NaN</td>\n",
       "      <td>NaN</td>\n",
       "      <td>NaN</td>\n",
       "      <td>NaN</td>\n",
       "      <td>NaN</td>\n",
       "      <td>NaN</td>\n",
       "      <td>NaN</td>\n",
       "      <td>0.423533</td>\n",
       "      <td>NaN</td>\n",
       "      <td>NaN</td>\n",
       "    </tr>\n",
       "    <tr>\n",
       "      <th>3</th>\n",
       "      <td>50308182</td>\n",
       "      <td>NDNS Year 5</td>\n",
       "      <td>1.0</td>\n",
       "      <td>1</td>\n",
       "      <td>England</td>\n",
       "      <td>NaN</td>\n",
       "      <td>Wednesday</td>\n",
       "      <td>1</td>\n",
       "      <td>4</td>\n",
       "      <td>2pm to 4:59pm</td>\n",
       "      <td>...</td>\n",
       "      <td>NaN</td>\n",
       "      <td>NaN</td>\n",
       "      <td>NaN</td>\n",
       "      <td>NaN</td>\n",
       "      <td>NaN</td>\n",
       "      <td>NaN</td>\n",
       "      <td>NaN</td>\n",
       "      <td>0.423533</td>\n",
       "      <td>NaN</td>\n",
       "      <td>NaN</td>\n",
       "    </tr>\n",
       "    <tr>\n",
       "      <th>4</th>\n",
       "      <td>900603021</td>\n",
       "      <td>NDNS Year 9</td>\n",
       "      <td>NaN</td>\n",
       "      <td>1</td>\n",
       "      <td>England</td>\n",
       "      <td>NaN</td>\n",
       "      <td>Thursday</td>\n",
       "      <td>4</td>\n",
       "      <td>4</td>\n",
       "      <td>2pm to 4:59pm</td>\n",
       "      <td>...</td>\n",
       "      <td>NaN</td>\n",
       "      <td>NaN</td>\n",
       "      <td>NaN</td>\n",
       "      <td>NaN</td>\n",
       "      <td>South West</td>\n",
       "      <td>1.160257</td>\n",
       "      <td>NaN</td>\n",
       "      <td>NaN</td>\n",
       "      <td>NaN</td>\n",
       "      <td>1.435215</td>\n",
       "    </tr>\n",
       "  </tbody>\n",
       "</table>\n",
       "<p>5 rows × 160 columns</p>\n",
       "</div>"
      ],
      "text/plain": [
       "     seriali   SurveyYear   Age  Sex   Country   diarymth  DayofWeek  DayNo  \\\n",
       "0   40322051  NDNS Year 4  60.0    2  Scotland   February     Friday      1   \n",
       "1   10513211  NDNS Year 1  50.0    1  Scotland  September     Sunday      4   \n",
       "2   50308182  NDNS Year 5   1.0    1   England        NaN  Wednesday      1   \n",
       "3   50308182  NDNS Year 5   1.0    1   England        NaN  Wednesday      1   \n",
       "4  900603021  NDNS Year 9   NaN    1   England        NaN   Thursday      4   \n",
       "\n",
       "   DiaryDaysCompleted MealTimeDescription  ... wtr_Y78  wtn_Y78 wtb_Y78  \\\n",
       "0                   4       5pm to 7:59pm  ...     NaN      NaN     NaN   \n",
       "1                   4   12 noon to 1:59pm  ...     NaN      NaN     NaN   \n",
       "2                   4       2pm to 4:59pm  ...     NaN      NaN     NaN   \n",
       "3                   4       2pm to 4:59pm  ...     NaN      NaN     NaN   \n",
       "4                   4       2pm to 4:59pm  ...     NaN      NaN     NaN   \n",
       "\n",
       "   wtsu_Y78         GOR    wti_Y9 wti_UKY1234rs  wti_Y56rs wti_Y78rs  \\\n",
       "0       NaN         NaN       NaN      0.159795        NaN       NaN   \n",
       "1       NaN         NaN       NaN      0.345726        NaN       NaN   \n",
       "2       NaN         NaN       NaN           NaN   0.423533       NaN   \n",
       "3       NaN         NaN       NaN           NaN   0.423533       NaN   \n",
       "4       NaN  South West  1.160257           NaN        NaN       NaN   \n",
       "\n",
       "  wti_Y911rs  \n",
       "0        NaN  \n",
       "1        NaN  \n",
       "2        NaN  \n",
       "3        NaN  \n",
       "4   1.435215  \n",
       "\n",
       "[5 rows x 160 columns]"
      ]
     },
     "execution_count": 18,
     "metadata": {},
     "output_type": "execute_result"
    }
   ],
   "source": [
    "food_final.head(5)"
   ]
  },
  {
   "cell_type": "markdown",
   "metadata": {},
   "source": [
    "Exclude alcohol and supplements"
   ]
  },
  {
   "cell_type": "code",
   "execution_count": 19,
   "metadata": {},
   "outputs": [],
   "source": [
    "categories= {'47A', '47B','48A', '48B', '48C', '49A', '49B', '49C', '49D', '49E', '54A', '54B', '54C', '54D', '54E', '54F', '54G', '54H', '54I', '54J', '54K', '54L', '54M', '54N', '54P'}\n",
    "food_noalcnovit=food_final[~food_final['SubFoodGroupCode'].isin(categories)]"
   ]
  },
  {
   "cell_type": "markdown",
   "metadata": {},
   "source": [
    "Create vegetable and fruit purees -- based on 'FoodName' variable"
   ]
  },
  {
   "cell_type": "code",
   "execution_count": 20,
   "metadata": {},
   "outputs": [],
   "source": [
    "veg_pureed={'BROCOLLI SPEARS FRESH BOILED PUREED','CABBAGE-WINTER KALE FRESH BOILED (PUREED)',\n",
    "            'CARROT OLD RAW PUREED','CARROTS OLD, FRESH, BOILED PUREED', 'CARROTS YOUNG FRESH BOILED PUREED', 'CARROTS YOUNG FRESH RAW PUREED',  \n",
    "            'CAULIFLOWER-FRESH BOILED (PUREED)', 'CELERIAC FRESH BOILED (PUREED)', 'CELERY FRESH BOILED PUREED',  'CELERY, FRESH RAW (PUREED)',\n",
    "            'COURGETTE-BOILED (PUREED)','GARLIC PUREE','GUACAMOLE PURCHASED', 'GUACAMOLE REDUCED FAT PURCHASED',\n",
    "            'HARICOT BEANS, NO ADDED SALT, CANNED AND DRAINED, COOKED (PUREED)','HUMMUS, NOT CANNED', 'HUMMUS/HOUMOUS, LOW/REDUCED FAT',\n",
    "            'LEEKS FRESH BOILED (PUREED)', 'LENTILS SPLIT BOILED (PUREED)', 'MUSHROOMS STEWED OR GRILLED (PUREED)',\n",
    "            'ONIONS BOILED PUREED', 'PEAS FROZEN BOILED (PUREED) FF PROJECT', 'PEAS SPLIT DRIED BOILED (PUREED)', \n",
    "            'PEAS-CHICK, NO ADDED SALT OR SUGAR, CANNED AND DRAINED , COOKED (PUREED)', 'PEPPERS GREEN BOILED (PUREED)', \n",
    "            'PEPPERS YELLOW FRESH BOILED (PUREED)',  'PUMPKIN, PUREED, BOILED', 'SPINACH RAW NOT BABY SPINACH (PUREED)', 'SPINACH FRESH BOILED (PUREED)', \n",
    "            'SWEDE BOILED (PUREED)', 'SWEETCORN, CANNED, DRAINED, NON ADDED SUGAR OR SALT (PUREED) FS PROJECT', 'TURNIPS-BOILED (PUREED)'}"
   ]
  },
  {
   "cell_type": "code",
   "execution_count": 21,
   "metadata": {},
   "outputs": [],
   "source": [
    "fruit_pureed={'GOJI BERRIES / WOLFBERRIES DRIED (PUREED)','MELON PUREE, HOMEMADE, 100% FRESH RAW FRUIT NAS','STRAWBERRIES STEWED WITHOUT SUGAR (PUREED)', \n",
    "              'PURE FRUIT PUREES NAS ANY FLAVOUR READY TO EAT (ADDED VIT C 0-10MG)', \n",
    "              'PURE FRUIT PUREES NAS ANY FLAVOUR READY TO EAT (ADDED VIT C 10-20MG)',\n",
    "              'PURE FRUIT PUREES NAS ANY FLAVOUR READY TO EAT (ADDED VIT C OVER 20MG)', 'GRAPEFRUIT RAW, PUREED, FLESH ONLY NO PEEL OR PIPS', \n",
    "              'KIWI PUREE, HOMEMADE, 100% FRESH RAW FRUIT NAS', 'NECTARINE PUREE, HOMEMADE, 100% FRESH RAW FRUIT NAS', \n",
    "              'PASSION FRUIT RAW FLESH & SEEDS ONLY (PUREED)', 'RASPBERRY PUREE, HOMEMADE, 100% FRESH RAW FRUIT NAS'}"
   ]
  },
  {
   "cell_type": "code",
   "execution_count": 22,
   "metadata": {},
   "outputs": [],
   "source": [
    "food_noalcnovit.loc[:, 'veg_pureed']  = 0\n",
    "food_noalcnovit.loc[:, 'fruit_pureed']  = 0\n",
    "food_noalcnovit.loc[food_noalcnovit['FoodName'].isin(veg_pureed), 'veg_pureed'] = food_noalcnovit.loc[food_noalcnovit['FoodName'].isin(veg_pureed), 'TotalGrams']\n",
    "food_noalcnovit.loc[food_noalcnovit['FoodName'].isin(fruit_pureed), 'fruit_pureed'] = food_noalcnovit.loc[food_noalcnovit['FoodName'].isin(fruit_pureed), 'TotalGrams']"
   ]
  },
  {
   "cell_type": "markdown",
   "metadata": {},
   "source": [
    "Calculate vegetable variable"
   ]
  },
  {
   "cell_type": "code",
   "execution_count": 23,
   "metadata": {},
   "outputs": [],
   "source": [
    "food_noalcnovit.loc [:, \"vegetable\"] = food_noalcnovit[\"Tomatoesg\"]+ food_noalcnovit[\"Brassicaceaeg\"]+food_noalcnovit[\"YellowRedGreeng\"]+food_noalcnovit[\"Beansg\"]+food_noalcnovit[\"OtherVegg\"]"
   ]
  },
  {
   "cell_type": "markdown",
   "metadata": {},
   "source": [
    "Calculate fruit variable"
   ]
  },
  {
   "cell_type": "code",
   "execution_count": 24,
   "metadata": {},
   "outputs": [],
   "source": [
    "food_noalcnovit.loc [:, \"Fruitjuice_per_100_g\"] = food_noalcnovit[\"FruitJuiceg\"]/food_noalcnovit[\"TotalGrams\"]*100"
   ]
  },
  {
   "cell_type": "markdown",
   "metadata": {},
   "source": [
    "Calculate fruit, veg, and nuts per 100g "
   ]
  },
  {
   "cell_type": "code",
   "execution_count": 25,
   "metadata": {},
   "outputs": [],
   "source": [
    "food_noalcnovit.loc [:,\"fvn_per_100_g\"] = (food_noalcnovit[\"Fruitg\"] + food_noalcnovit[\"vegetable\"]+ food_noalcnovit[\"Nutsg\"]+ food_noalcnovit['TomatoPureeg']*2+ food_noalcnovit['veg_pureed']*2+ food_noalcnovit['fruit_pureed']*2+food_noalcnovit['DriedFruitg']*2)/(food_noalcnovit[\"TotalGrams\"]+ food_noalcnovit['TomatoPureeg'] + food_noalcnovit['veg_pureed']+ food_noalcnovit['fruit_pureed']+ food_noalcnovit['DriedFruitg'])*100"
   ]
  },
  {
   "cell_type": "markdown",
   "metadata": {},
   "source": [
    "Calculate the amount per 100g"
   ]
  },
  {
   "cell_type": "code",
   "execution_count": 26,
   "metadata": {},
   "outputs": [],
   "source": [
    "food_noalcnovit.loc [:, \"Fruitjuice_per_100_g\"] = food_noalcnovit[\"FruitJuiceg\"]/food_noalcnovit[\"TotalGrams\"]*100"
   ]
  },
  {
   "cell_type": "code",
   "execution_count": 27,
   "metadata": {},
   "outputs": [],
   "source": [
    "food_noalcnovit.loc [:, \"Smoothies_per_100_g\"] = food_noalcnovit[\"SmoothieFruitg\"]/food_noalcnovit[\"TotalGrams\"]*100"
   ]
  },
  {
   "cell_type": "code",
   "execution_count": 28,
   "metadata": {},
   "outputs": [],
   "source": [
    "food_noalcnovit.loc [:, \"EnergykJ_per_100_g\"] = food_noalcnovit[\"EnergykJ\"]/food_noalcnovit[\"TotalGrams\"]*100"
   ]
  },
  {
   "cell_type": "code",
   "execution_count": 29,
   "metadata": {},
   "outputs": [],
   "source": [
    "food_noalcnovit.loc [:, \"Saturatedfattyacidsg_per_100_g\"] = food_noalcnovit[\"Saturatedfattyacidsg\"]/food_noalcnovit[\"TotalGrams\"]*100"
   ]
  },
  {
   "cell_type": "code",
   "execution_count": 30,
   "metadata": {},
   "outputs": [],
   "source": [
    "food_noalcnovit.loc [:, \"Totalsugarsg_per_100_g\"] = food_noalcnovit[\"Totalsugarsg\"]/food_noalcnovit[\"TotalGrams\"]*100"
   ]
  },
  {
   "cell_type": "code",
   "execution_count": 31,
   "metadata": {},
   "outputs": [],
   "source": [
    "food_noalcnovit.loc [:, \"Sodiummg_per_100_g\"] = food_noalcnovit[\"Sodiummg\"]/food_noalcnovit[\"TotalGrams\"]*100"
   ]
  },
  {
   "cell_type": "code",
   "execution_count": 32,
   "metadata": {},
   "outputs": [],
   "source": [
    "food_noalcnovit.loc [:, \"AOACFibreg_per_100_g\"] = food_noalcnovit[\"AOACFibreg\"]/food_noalcnovit[\"TotalGrams\"]*100"
   ]
  },
  {
   "cell_type": "code",
   "execution_count": 33,
   "metadata": {},
   "outputs": [],
   "source": [
    "food_noalcnovit.loc [:, \"Proteing_per_100_g\"] = food_noalcnovit[\"Proteing\"]/food_noalcnovit[\"TotalGrams\"]*100"
   ]
  },
  {
   "cell_type": "code",
   "execution_count": 34,
   "metadata": {},
   "outputs": [
    {
     "data": {
      "text/plain": [
       "Unprocessed or minimally processed foods    49.447770\n",
       "Ultra-processed food and drink products     36.375105\n",
       "Processed culinary ingredients               8.073888\n",
       "Processed foods                              6.103237\n",
       "Name: NOVANumNEW_agreement, dtype: float64"
      ]
     },
     "execution_count": 34,
     "metadata": {},
     "output_type": "execute_result"
    }
   ],
   "source": [
    "food_noalcnovit.NOVANumNEW_agreement.value_counts(normalize=True)*100"
   ]
  },
  {
   "cell_type": "markdown",
   "metadata": {},
   "source": [
    "Create a binary variable equalling one if UPF and zero otherwise"
   ]
  },
  {
   "cell_type": "code",
   "execution_count": 35,
   "metadata": {},
   "outputs": [],
   "source": [
    "food_noalcnovit.loc[:, 'NOVA_UPF_NUPF_boolean'] = (food_noalcnovit['NOVANumNEW_agreement'] == 'Ultra-processed food and drink products')"
   ]
  },
  {
   "cell_type": "markdown",
   "metadata": {},
   "source": [
    "Classify HFSS foods using NDNS food database based on the NPM 2004/5 version "
   ]
  },
  {
   "cell_type": "markdown",
   "metadata": {},
   "source": [
    "A POINTS"
   ]
  },
  {
   "cell_type": "code",
   "execution_count": 36,
   "metadata": {},
   "outputs": [],
   "source": [
    "energy_points = {0: [-1, 335], 1: [335, 670], 2: [670, 1005], 3: [1005, 1340], \n",
    "                 4: [1340, 1675], 5: [1675, 2010], 6: [2010, 2345], 7: [2345, 2680],\n",
    "                 8: [2680, 3015], 9: [3015, 3350], 10: [3350]}\n",
    "food_noalcnovit.loc [:, 'energy_a_points'] = np.array(len(food_noalcnovit) * [0])\n",
    "for points in energy_points:\n",
    "    interval = energy_points[points]\n",
    "    if len(interval) == 2:\n",
    "        food_noalcnovit.loc[(food_noalcnovit['EnergykJ_per_100_g'] > interval[0]) & (food_noalcnovit['EnergykJ_per_100_g'] <= interval[1]),'energy_a_points'] = points\n",
    "    elif len(interval) == 1:\n",
    "        food_noalcnovit.loc[(food_noalcnovit['EnergykJ_per_100_g'] > interval[0]), 'energy_a_points'] = points"
   ]
  },
  {
   "cell_type": "code",
   "execution_count": 37,
   "metadata": {},
   "outputs": [],
   "source": [
    "satfat_points = {0: [-1, 1], 1: [1, 2], 2: [2, 3], 3: [3, 4], \n",
    "                 4: [4, 5], 5: [5, 6], 6: [6, 7], 7: [7, 8],\n",
    "                 8: [8, 9], 9: [9, 10], 10: [10]}\n",
    "food_noalcnovit.loc[:, 'satfat_a_points'] = np.array(len(food_noalcnovit) * [0])\n",
    "for points in satfat_points:\n",
    "    interval = satfat_points[points]\n",
    "    if len(interval) == 2:\n",
    "        food_noalcnovit.loc[(food_noalcnovit['Saturatedfattyacidsg_per_100_g'] > interval[0]) & (food_noalcnovit['Saturatedfattyacidsg_per_100_g'] <= interval[1]),'satfat_a_points'] = points\n",
    "    elif len(interval) == 1:\n",
    "        food_noalcnovit.loc[(food_noalcnovit['Saturatedfattyacidsg_per_100_g'] > interval[0]), 'satfat_a_points'] = points"
   ]
  },
  {
   "cell_type": "code",
   "execution_count": 38,
   "metadata": {},
   "outputs": [],
   "source": [
    "tsugar_points = {0: [-1, 4.5], 1: [4.5, 9], 2: [9, 13.5], 3: [13.5, 18], \n",
    "                 4: [18, 22.5], 5: [22.5, 27], 6: [27, 31], 7: [31, 36],\n",
    "                 8: [36, 40], 9: [40, 45], 10: [45]}\n",
    "food_noalcnovit.loc[:, 'tsugar_a_points'] = np.array(len(food_noalcnovit) * [0])\n",
    "for points in tsugar_points:\n",
    "    interval = tsugar_points[points]\n",
    "    if len(interval) == 2:\n",
    "        food_noalcnovit.loc[(food_noalcnovit['Totalsugarsg_per_100_g'] > interval[0]) & (food_noalcnovit['Totalsugarsg_per_100_g'] <= interval[1]),'tsugar_a_points'] = points\n",
    "    elif len(interval) == 1:\n",
    "        food_noalcnovit.loc[(food_noalcnovit['Totalsugarsg_per_100_g'] > interval[0]), 'tsugar_a_points'] = points"
   ]
  },
  {
   "cell_type": "code",
   "execution_count": 39,
   "metadata": {},
   "outputs": [],
   "source": [
    "sodium_points = {0: [-1, 90], 1: [90, 180], 2: [180, 270], 3: [270, 360], \n",
    "                 4: [360, 450], 5: [450, 540], 6: [540, 630], 7: [630, 720],\n",
    "                 8: [720, 810], 9: [810, 900], 10: [900]}\n",
    "food_noalcnovit.loc[:, 'sodium_a_points'] = np.array(len(food_noalcnovit) * [0])\n",
    "for points in sodium_points:\n",
    "    interval = sodium_points[points]\n",
    "    if len(interval) == 2:\n",
    "        food_noalcnovit.loc[(food_noalcnovit['Sodiummg_per_100_g'] > interval[0]) & (food_noalcnovit['Sodiummg_per_100_g'] <= interval[1]),'sodium_a_points'] = points\n",
    "    elif len(interval) == 1:\n",
    "        food_noalcnovit.loc[(food_noalcnovit['Sodiummg_per_100_g'] > interval[0]), 'sodium_a_points'] = points"
   ]
  },
  {
   "cell_type": "markdown",
   "metadata": {},
   "source": [
    "Calculate total A points"
   ]
  },
  {
   "cell_type": "code",
   "execution_count": 40,
   "metadata": {},
   "outputs": [],
   "source": [
    "food_noalcnovit.loc[:, 'total_a_points'] = food_noalcnovit[\"energy_a_points\"] + food_noalcnovit[\"satfat_a_points\"] + food_noalcnovit[\"tsugar_a_points\"] + food_noalcnovit[\"sodium_a_points\"] "
   ]
  },
  {
   "cell_type": "markdown",
   "metadata": {},
   "source": [
    "C POINTS"
   ]
  },
  {
   "cell_type": "code",
   "execution_count": 41,
   "metadata": {},
   "outputs": [],
   "source": [
    "smoothies = {0: [-1, 40], 1: [40, 60], 2: [60, 80], 5: [80]}\n",
    "food_noalcnovit.loc [:, 'smoothies'] = np.array(len(food_noalcnovit) * [0])\n",
    "for points in smoothies:\n",
    "    interval = smoothies[points]\n",
    "    if len(interval) == 2:\n",
    "        food_noalcnovit.loc[(food_noalcnovit['Smoothies_per_100_g'] > interval[0]) & (food_noalcnovit['Smoothies_per_100_g'] <= interval[1]),'smoothies'] = points\n",
    "    elif len(interval) == 1:\n",
    "        food_noalcnovit.loc[(food_noalcnovit['Smoothies_per_100_g'] > interval[0]), 'smoothies'] = points"
   ]
  },
  {
   "cell_type": "code",
   "execution_count": 42,
   "metadata": {},
   "outputs": [],
   "source": [
    "fruit_juices = {0: [-1, 40], 1: [40, 60], 2: [60, 80], 5: [80]}\n",
    "food_noalcnovit.loc [:, 'fruit_juice'] = np.array(len(food_noalcnovit) * [0])\n",
    "for points in fruit_juices:\n",
    "    interval = fruit_juices[points]\n",
    "    if len(interval) == 2:\n",
    "        food_noalcnovit.loc[(food_noalcnovit['Fruitjuice_per_100_g'] > interval[0]) & (food_noalcnovit['Fruitjuice_per_100_g'] <= interval[1]),'fruit_juice'] = points\n",
    "    elif len(interval) == 1:\n",
    "        food_noalcnovit.loc[(food_noalcnovit['Fruitjuice_per_100_g'] > interval[0]), 'fruit_juice'] = points"
   ]
  },
  {
   "cell_type": "code",
   "execution_count": 43,
   "metadata": {},
   "outputs": [],
   "source": [
    "fvn_points = {0: [-1, 40], 1: [40, 60], 2: [60, 80], 5: [80]} \n",
    "food_noalcnovit.loc[:, 'fvn_c_points'] = np.array(len(food_noalcnovit) * [0])\n",
    "for points in fvn_points:\n",
    "    interval = fvn_points[points]\n",
    "    if len(interval) == 2:\n",
    "        food_noalcnovit.loc[(food_noalcnovit['fvn_per_100_g'] > interval[0]) & (food_noalcnovit['fvn_per_100_g'] <= interval[1]),'fvn_c_points'] = points\n",
    "    elif len(interval) == 1:\n",
    "        food_noalcnovit.loc[(food_noalcnovit['fvn_per_100_g'] > interval[0]), 'fvn_c_points'] = points"
   ]
  },
  {
   "cell_type": "code",
   "execution_count": 44,
   "metadata": {},
   "outputs": [],
   "source": [
    "aoacfibre_points = {0: [-1, 0.9], 1: [0.9, 1.9], 2: [1.9, 2.8], 3: [2.8, 3.7], 4: [3.7, 4.7], 5: [4.7]} \n",
    "\n",
    "food_noalcnovit.loc[:, 'aoacfibre_c_points'] = np.array(len(food_noalcnovit) * [0])\n",
    "for points in aoacfibre_points:\n",
    "    interval = aoacfibre_points[points]\n",
    "    if len(interval) == 2:\n",
    "        food_noalcnovit.loc[(food_noalcnovit['AOACFibreg_per_100_g'] > interval[0]) & (food_noalcnovit['AOACFibreg_per_100_g'] <= interval[1]),'aoacfibre_c_points'] = points\n",
    "    elif len(interval) == 1:\n",
    "        food_noalcnovit.loc[(food_noalcnovit['AOACFibreg_per_100_g'] > interval[0]), 'aoacfibre_c_points'] = points"
   ]
  },
  {
   "cell_type": "markdown",
   "metadata": {},
   "source": [
    "If a food or drink scores 11 or more ‘A’ points then it cannot score points for protein unless it also scores 5 points for fruit, vegetables and nuts."
   ]
  },
  {
   "cell_type": "code",
   "execution_count": 45,
   "metadata": {},
   "outputs": [],
   "source": [
    "protein_points = {0: [-1, 1.6], 1: [1.6, 3.2], 2: [3.2, 4.8], 3: [4.8, 6.4], 4: [6.4, 8.0], 5: [8.0]} \n",
    "\n",
    "food_noalcnovit.loc[:, 'protein_c_points'] = np.array(len(food_noalcnovit) * [0])\n",
    "for points in protein_points:\n",
    "    interval = protein_points[points]\n",
    "    if len(interval) == 2:\n",
    "        food_noalcnovit.loc[(food_noalcnovit['Proteing_per_100_g'] > interval[0]) & (food_noalcnovit['Proteing_per_100_g'] <= interval[1])  & (food_noalcnovit['total_a_points'] < 11),'protein_c_points'] = points\n",
    "        food_noalcnovit.loc[(food_noalcnovit['Proteing_per_100_g'] > interval[0]) & (food_noalcnovit['Proteing_per_100_g'] <= interval[1])  & (food_noalcnovit['total_a_points'] >= 11) & (food_noalcnovit['fvn_c_points'] >= 5),'protein_c_points'] = points\n",
    "    elif len(interval) == 1:\n",
    "        food_noalcnovit.loc[(food_noalcnovit['Proteing_per_100_g'] > interval[0])  & (food_noalcnovit['total_a_points'] < 11), 'protein_c_points'] = points\n",
    "        food_noalcnovit.loc[(food_noalcnovit['Proteing_per_100_g'] > interval[0])  & (food_noalcnovit['total_a_points'] >= 11) & (food_noalcnovit['fvn_c_points'] >= 5), 'protein_c_points'] = points"
   ]
  },
  {
   "cell_type": "markdown",
   "metadata": {},
   "source": [
    "Calculate total C POINTS"
   ]
  },
  {
   "cell_type": "code",
   "execution_count": 46,
   "metadata": {},
   "outputs": [],
   "source": [
    "food_noalcnovit.loc[:, 'total_c_points'] = food_noalcnovit[\"fvn_c_points\"] + food_noalcnovit[\"aoacfibre_c_points\"] + food_noalcnovit[\"protein_c_points\"] +food_noalcnovit['fruit_juice']+ food_noalcnovit['smoothies']"
   ]
  },
  {
   "cell_type": "markdown",
   "metadata": {},
   "source": [
    "TOTAL POINTS"
   ]
  },
  {
   "cell_type": "code",
   "execution_count": 47,
   "metadata": {},
   "outputs": [],
   "source": [
    "food_noalcnovit.loc[:, \"total_points\"] = food_noalcnovit[\"total_a_points\"]-food_noalcnovit [\"total_c_points\"]"
   ]
  },
  {
   "cell_type": "code",
   "execution_count": 48,
   "metadata": {},
   "outputs": [],
   "source": [
    "food_noalcnovit.loc[:, \"lesshealthy\"] = food_noalcnovit[\"total_points\"] >= 4 "
   ]
  },
  {
   "cell_type": "markdown",
   "metadata": {},
   "source": [
    "Create a drink set - include all drink names (Remove fruit juice and smoothies since they are calculated elsewhere)"
   ]
  },
  {
   "cell_type": "code",
   "execution_count": 49,
   "metadata": {},
   "outputs": [],
   "source": [
    "drink_set={'SEMI SKIMMED MILK','SKIMMED MILK', 'SOFT DRINKS NOT LOW CALORIE', 'SOFT DRINKS LOW CALORIE', 'COMMERCIAL TODDLERS FOODS AND DRINKS', \n",
    "       '1% Fat Milk', 'TEA COFFEE AND WATER', 'WHOLE MILK'} "
   ]
  },
  {
   "cell_type": "code",
   "execution_count": 50,
   "metadata": {},
   "outputs": [],
   "source": [
    "drink_set2={'ACTIMEL PROBIOTIC DRINKING YOGURT',\n",
    "'ACTIMEL PROBIOTIC YOGURT DRINK 0.1% FAT',\n",
    "'BENECOL PLUS HEART YOGURT DRINK', 'BENECOL YOGURT DRINKS',\n",
    "'BENECOL YOGURT DRINKS, CONTAINING STANOLS',\n",
    "'CHILDRENS YOGURT DRINK WITH OMEGA 3, CALCIUM AND VITAMIN D',\n",
    "'CHILDRENS YOGURT DRINK WITH VITAMIN D',\n",
    "'MULLER VITALITY PROBIOTIC DRINK',\n",
    "'MULLER VITALITY PROBIOTIC DRINK WITH OMEGA 3',\n",
    "'OPTIFIT YOGURT DRINKS, ANY FLAVOUR, FORTIFIED WITH VITS C, E, B6',\n",
    "'SMOOTHIES WITH FRUIT AND DAIRY PRODUCTS, BOTTLED, PURCHASED, NOT FORTIFIED',\n",
    "'YAKULT', 'YOGURT DRINK', 'YOGURT DRINK CONTAINING FRUIT PUREE',\n",
    "'YOGURT DRINK FORTIFIED WITH VITAMINS B6, C AND D'}"
   ]
  },
  {
   "cell_type": "code",
   "execution_count": 51,
   "metadata": {},
   "outputs": [],
   "source": [
    "food_noalcnovit.loc[food_noalcnovit['MainFoodGroupDesc'].isin(drink_set), 'lesshealthy'] = food_noalcnovit.loc[food_noalcnovit['MainFoodGroupDesc'].isin(drink_set), \"total_points\"]>= 1 "
   ]
  },
  {
   "cell_type": "code",
   "execution_count": 52,
   "metadata": {},
   "outputs": [],
   "source": [
    "food_noalcnovit.loc[food_noalcnovit['FoodName'].isin(drink_set2), 'lesshealthy'] = food_noalcnovit.loc[food_noalcnovit['FoodName'].isin(drink_set2), \"total_points\"]>= 1 "
   ]
  },
  {
   "cell_type": "code",
   "execution_count": 53,
   "metadata": {},
   "outputs": [
    {
     "data": {
      "text/plain": [
       "0.33401006155548796"
      ]
     },
     "execution_count": 53,
     "metadata": {},
     "output_type": "execute_result"
    }
   ],
   "source": [
    "np.sum(food_noalcnovit[\"lesshealthy\"])/len(food_noalcnovit[\"lesshealthy\"])"
   ]
  },
  {
   "cell_type": "code",
   "execution_count": 54,
   "metadata": {},
   "outputs": [
    {
     "data": {
      "text/plain": [
       "0.3637510482667603"
      ]
     },
     "execution_count": 54,
     "metadata": {},
     "output_type": "execute_result"
    }
   ],
   "source": [
    "np.sum(food_noalcnovit[\"NOVA_UPF_NUPF_boolean\"])/len(food_noalcnovit[\"NOVA_UPF_NUPF_boolean\"])"
   ]
  },
  {
   "cell_type": "code",
   "execution_count": 55,
   "metadata": {},
   "outputs": [],
   "source": [
    "food_noalcnovit_upf = food_noalcnovit[food_noalcnovit['NOVA_UPF_NUPF_boolean']]"
   ]
  },
  {
   "cell_type": "markdown",
   "metadata": {},
   "source": [
    "Check the proportion of HFSS if added artificial sweeteners and soft drinks, low calorie"
   ]
  },
  {
   "cell_type": "code",
   "execution_count": 56,
   "metadata": {},
   "outputs": [],
   "source": [
    "food_noalcnovit_upf.loc[:,\"LH_assd\"] = (food_noalcnovit_upf[\"lesshealthy\"])| (food_noalcnovit_upf['MainFoodGroupDesc'] == \"ARTIFICIAL SWEETENERS\")|(food_noalcnovit_upf['MainFoodGroupDesc'] == \"SOFT DRINKS LOW CALORIE\")"
   ]
  },
  {
   "cell_type": "markdown",
   "metadata": {},
   "source": [
    "Check the proportion of HFSS if added artificial sweeteners and soft drinks, low calorie"
   ]
  },
  {
   "cell_type": "code",
   "execution_count": 57,
   "metadata": {},
   "outputs": [
    {
     "data": {
      "text/plain": [
       "0.6673027981928571"
      ]
     },
     "execution_count": 57,
     "metadata": {},
     "output_type": "execute_result"
    }
   ],
   "source": [
    "np.sum(food_noalcnovit_upf[\"LH_assd\"] )/len(food_noalcnovit_upf.loc[:,\"LH_assd\"] )"
   ]
  },
  {
   "cell_type": "markdown",
   "metadata": {},
   "source": [
    "Proportion of energy derived from HFSS+ARTIFICIAL SWEETENERS AND SOFT DRINKS, LOW CALORIE"
   ]
  },
  {
   "cell_type": "code",
   "execution_count": 58,
   "metadata": {},
   "outputs": [
    {
     "data": {
      "text/plain": [
       "0.5899550903027799"
      ]
     },
     "execution_count": 58,
     "metadata": {},
     "output_type": "execute_result"
    }
   ],
   "source": [
    "np.sum(food_noalcnovit_upf[\"LH_assd\"]* food_noalcnovit_upf['Energykcal'])/np.sum(food_noalcnovit_upf['Energykcal'])"
   ]
  },
  {
   "cell_type": "markdown",
   "metadata": {},
   "source": [
    "Proportion of energy derived from HFSS among UPF sample"
   ]
  },
  {
   "cell_type": "code",
   "execution_count": 59,
   "metadata": {},
   "outputs": [
    {
     "data": {
      "text/plain": [
       "0.5884218011082163"
      ]
     },
     "execution_count": 59,
     "metadata": {},
     "output_type": "execute_result"
    }
   ],
   "source": [
    "np.sum((food_noalcnovit_upf[\"lesshealthy\"]* food_noalcnovit_upf['Energykcal']))/np.sum(food_noalcnovit_upf['Energykcal'])#len(food_noalcnovit[food_noalcnovit[\"NOVA_UPF_NUPF_boolean\"]])"
   ]
  },
  {
   "cell_type": "markdown",
   "metadata": {},
   "source": [
    "Proportion of weight derived from HFSS among UPF sample"
   ]
  },
  {
   "cell_type": "code",
   "execution_count": 60,
   "metadata": {},
   "outputs": [
    {
     "data": {
      "text/plain": [
       "0.3846324171490843"
      ]
     },
     "execution_count": 60,
     "metadata": {},
     "output_type": "execute_result"
    }
   ],
   "source": [
    "np.sum((food_noalcnovit_upf[\"lesshealthy\"]* food_noalcnovit_upf['TotalGrams']))/np.sum(food_noalcnovit_upf['TotalGrams'])#len(food_noalcnovit[food_noalcnovit[\"NOVA_UPF_NUPF_boolean\"]])"
   ]
  },
  {
   "cell_type": "markdown",
   "metadata": {},
   "source": [
    "Summarise for all foods"
   ]
  },
  {
   "cell_type": "code",
   "execution_count": 61,
   "metadata": {},
   "outputs": [
    {
     "name": "stdout",
     "output_type": "stream",
     "text": [
      "0.16110810710781281\n",
      "0.16110810710781281\n",
      "0.2026429411589475\n",
      "0.2026429411589475\n"
     ]
    }
   ],
   "source": [
    "value_notupf_healthy = np.sum((food_noalcnovit[\"NOVA_UPF_NUPF_boolean\"])*~food_noalcnovit[\"lesshealthy\"])/len(food_noalcnovit)\n",
    "value_upf_healthy = np.sum((food_noalcnovit[\"NOVA_UPF_NUPF_boolean\"])*~food_noalcnovit[\"lesshealthy\"])/len(food_noalcnovit)\n",
    "value_notupf_lesshealthy = np.sum((food_noalcnovit[\"NOVA_UPF_NUPF_boolean\"])*food_noalcnovit[\"lesshealthy\"])/len(food_noalcnovit)\n",
    "value_upf_lesshealthy = np.sum((food_noalcnovit[\"NOVA_UPF_NUPF_boolean\"])*food_noalcnovit[\"lesshealthy\"])/len(food_noalcnovit)\n",
    "print (value_notupf_healthy)\n",
    "print (value_upf_healthy)\n",
    "print (value_notupf_lesshealthy)\n",
    "print (value_upf_lesshealthy)"
   ]
  },
  {
   "cell_type": "markdown",
   "metadata": {},
   "source": [
    "Create a sum of weights based on the following (df['c'] = df['a'] + df['b']). It's been advised not to use 'apply() for numeric operations' \n",
    "https://stackoverflow.com/questions/26886653/create-new-column-based-on-values-from-other-columns-apply-a-function-of-multi"
   ]
  },
  {
   "cell_type": "code",
   "execution_count": 62,
   "metadata": {},
   "outputs": [],
   "source": [
    "food_noalcnovit.loc[food_noalcnovit['wti_UKY1234rs'] != food_noalcnovit['wti_UKY1234rs'], 'wti_UKY1234rs'] = 0\n",
    "food_noalcnovit.loc[food_noalcnovit['wti_Y56rs'] != food_noalcnovit['wti_Y56rs'], 'wti_Y56rs'] = 0\n",
    "food_noalcnovit.loc[food_noalcnovit['wti_Y78rs'] != food_noalcnovit['wti_Y78rs'], 'wti_Y78rs'] = 0\n",
    "food_noalcnovit.loc[food_noalcnovit['wti_Y911rs'] != food_noalcnovit['wti_Y911rs'], 'wti_Y911rs'] = 0"
   ]
  },
  {
   "cell_type": "code",
   "execution_count": 63,
   "metadata": {},
   "outputs": [],
   "source": [
    "food_noalcnovit.loc[:, 'total_weights'] = food_noalcnovit ['wti_UKY1234rs']+ food_noalcnovit['wti_Y56rs'] + food_noalcnovit['wti_Y78rs'] + food_noalcnovit['wti_Y911rs'] "
   ]
  },
  {
   "cell_type": "markdown",
   "metadata": {},
   "source": [
    "SUMMARIES FOR INDIVIDUAL DAILY CONSUMPTION, WEIGHTED"
   ]
  },
  {
   "cell_type": "markdown",
   "metadata": {},
   "source": [
    "The food diary entries are based on 3 or 4 day entry. "
   ]
  },
  {
   "cell_type": "markdown",
   "metadata": {},
   "source": [
    "HFSS WEIGHTED "
   ]
  },
  {
   "cell_type": "code",
   "execution_count": 64,
   "metadata": {},
   "outputs": [],
   "source": [
    "#food_noalcnovit_four = food_noalcnovit[food_noalcnovit['DiaryDaysCompleted']==4], if we want to limit to 4 days only. "
   ]
  },
  {
   "cell_type": "markdown",
   "metadata": {},
   "source": [
    "Grouping data by serial number and day number. Proportion of HFSS by total weight  "
   ]
  },
  {
   "cell_type": "code",
   "execution_count": 65,
   "metadata": {},
   "outputs": [],
   "source": [
    "grouped_food_noalcnovit_individual = food_noalcnovit.groupby(['seriali', 'DayNo']).apply (lambda x: (np.min(x['total_weights']), np.sum (x['lesshealthy'] * x['TotalGrams'])/np.sum(x['TotalGrams'])))"
   ]
  },
  {
   "cell_type": "code",
   "execution_count": 66,
   "metadata": {},
   "outputs": [],
   "source": [
    "grouped_food_noalcnovit_individual = grouped_food_noalcnovit_individual.groupby(level=[0]).apply (lambda x: (np.min([y[0] for y in x]), np.mean ([y[1] for y in x])))"
   ]
  },
  {
   "cell_type": "code",
   "execution_count": 67,
   "metadata": {},
   "outputs": [
    {
     "data": {
      "text/plain": [
       "(0.14965527358618932, 0.10857883584192428, 15655)"
      ]
     },
     "execution_count": 67,
     "metadata": {},
     "output_type": "execute_result"
    }
   ],
   "source": [
    "x = grouped_food_noalcnovit_individual\n",
    "weighted_avg_and_std (list(list_wo_nan(x)[1]), weights = [y for y in list_wo_nan(x)[0]])"
   ]
  },
  {
   "cell_type": "markdown",
   "metadata": {},
   "source": [
    "UPF WEIGHTED "
   ]
  },
  {
   "cell_type": "code",
   "execution_count": 68,
   "metadata": {},
   "outputs": [],
   "source": [
    "#food_noalcnovit_four = food_noalcnovit[food_noalcnovit['DiaryDaysCompleted']==4]"
   ]
  },
  {
   "cell_type": "code",
   "execution_count": 69,
   "metadata": {},
   "outputs": [],
   "source": [
    "grouped_food_noalcnovit_individual = food_noalcnovit.groupby(['seriali', 'DayNo']).apply (lambda x: (np.min(x['total_weights']), np.sum (x['NOVA_UPF_NUPF_boolean'] * x['TotalGrams'])/np.sum(x['TotalGrams'])))"
   ]
  },
  {
   "cell_type": "code",
   "execution_count": 70,
   "metadata": {},
   "outputs": [],
   "source": [
    "grouped_food_noalcnovit_individual = grouped_food_noalcnovit_individual.groupby(level=[0]).apply (lambda x: (np.min([y[0] for y in x]), np.mean ([y[1] for y in x])))"
   ]
  },
  {
   "cell_type": "code",
   "execution_count": 71,
   "metadata": {},
   "outputs": [
    {
     "data": {
      "text/plain": [
       "(0.2969718505879666, 0.1825537416263026, 15655)"
      ]
     },
     "execution_count": 71,
     "metadata": {},
     "output_type": "execute_result"
    }
   ],
   "source": [
    "x = grouped_food_noalcnovit_individual\n",
    "weighted_avg_and_std (list(list_wo_nan(x)[1]), weights = [y for y in list_wo_nan(x)[0]])"
   ]
  },
  {
   "cell_type": "markdown",
   "metadata": {},
   "source": [
    "upf anf hfss weighted by weight "
   ]
  },
  {
   "cell_type": "code",
   "execution_count": 72,
   "metadata": {},
   "outputs": [],
   "source": [
    "#food_noalcnovit_four = food_noalcnovit[food_noalcnovit['DiaryDaysCompleted']==4]"
   ]
  },
  {
   "cell_type": "code",
   "execution_count": 73,
   "metadata": {},
   "outputs": [],
   "source": [
    "grouped_food_noalcnovit_upf_hfss = food_noalcnovit.groupby(['seriali', 'DayNo']).apply (lambda x: (np.min(x['total_weights']), np.sum (x['lesshealthy'] * x['NOVA_UPF_NUPF_boolean']* x['TotalGrams'])/np.sum(x['TotalGrams'])))"
   ]
  },
  {
   "cell_type": "code",
   "execution_count": 74,
   "metadata": {},
   "outputs": [],
   "source": [
    "grouped_food_noalcnovit_upf_hfss = grouped_food_noalcnovit_upf_hfss.groupby(level=[0]).apply (lambda x: (np.min([y[0] for y in x]), np.mean ([y[1] for y in x])))"
   ]
  },
  {
   "cell_type": "code",
   "execution_count": 75,
   "metadata": {},
   "outputs": [
    {
     "data": {
      "text/plain": [
       "(0.11508037813580918, 0.09997822601381627, 15655)"
      ]
     },
     "execution_count": 75,
     "metadata": {},
     "output_type": "execute_result"
    }
   ],
   "source": [
    "        \n",
    "x = grouped_food_noalcnovit_upf_hfss\n",
    "weighted_avg_and_std (list(list_wo_nan(x)[1]), weights = [y for y in list_wo_nan(x)[0]])"
   ]
  },
  {
   "cell_type": "markdown",
   "metadata": {},
   "source": [
    "UPF only"
   ]
  },
  {
   "cell_type": "code",
   "execution_count": 76,
   "metadata": {},
   "outputs": [],
   "source": [
    "#food_noalcnovit_four = food_noalcnovit[food_noalcnovit['DiaryDaysCompleted']==4]"
   ]
  },
  {
   "cell_type": "code",
   "execution_count": 77,
   "metadata": {},
   "outputs": [],
   "source": [
    "grouped_food_noalcnovit_upf_only = food_noalcnovit.groupby(['seriali', 'DayNo']).apply (lambda x: (np.min(x['total_weights']), np.sum (~x['lesshealthy'] * x['NOVA_UPF_NUPF_boolean']* x['TotalGrams'])/np.sum(x['TotalGrams'])))"
   ]
  },
  {
   "cell_type": "code",
   "execution_count": 78,
   "metadata": {},
   "outputs": [],
   "source": [
    "grouped_food_noalcnovit_upf_only = grouped_food_noalcnovit_upf_only.groupby(level=[0]).apply (lambda x: (np.min([y[0] for y in x]), np.mean ([y[1] for y in x])))"
   ]
  },
  {
   "cell_type": "code",
   "execution_count": 79,
   "metadata": {},
   "outputs": [
    {
     "data": {
      "text/plain": [
       "(0.18189147245215737, 0.1340645545207261, 15655)"
      ]
     },
     "execution_count": 79,
     "metadata": {},
     "output_type": "execute_result"
    }
   ],
   "source": [
    "x = grouped_food_noalcnovit_upf_only\n",
    "weighted_avg_and_std (list(list_wo_nan(x)[1]), weights = [y for y in list_wo_nan(x)[0]])"
   ]
  },
  {
   "cell_type": "markdown",
   "metadata": {},
   "source": [
    "HFSS ONLY"
   ]
  },
  {
   "cell_type": "code",
   "execution_count": 80,
   "metadata": {},
   "outputs": [],
   "source": [
    "#food_noalcnovit_four = food_noalcnovit[food_noalcnovit['DiaryDaysCompleted']==4]"
   ]
  },
  {
   "cell_type": "code",
   "execution_count": 81,
   "metadata": {},
   "outputs": [],
   "source": [
    "grouped_food_noalcnovit_hfss_only = food_noalcnovit.groupby(['seriali', 'DayNo']).apply (lambda x: (np.min(x['total_weights']), np.sum (x['lesshealthy'] * ~x['NOVA_UPF_NUPF_boolean']* x['TotalGrams'])/np.sum(x['TotalGrams'])))"
   ]
  },
  {
   "cell_type": "code",
   "execution_count": 82,
   "metadata": {},
   "outputs": [],
   "source": [
    "grouped_food_noalcnovit_hfss_only = grouped_food_noalcnovit_upf_only.groupby(level=[0]).apply (lambda x: (np.min([y[0] for y in x]), np.mean ([y[1] for y in x])))"
   ]
  },
  {
   "cell_type": "code",
   "execution_count": 83,
   "metadata": {},
   "outputs": [
    {
     "data": {
      "text/plain": [
       "(0.18189147245215737, 0.1340645545207261, 15655)"
      ]
     },
     "execution_count": 83,
     "metadata": {},
     "output_type": "execute_result"
    }
   ],
   "source": [
    "x = grouped_food_noalcnovit_hfss_only\n",
    "weighted_avg_and_std (list(list_wo_nan(x)[1]), weights = [y for y in list_wo_nan(x)[0]])"
   ]
  },
  {
   "cell_type": "markdown",
   "metadata": {},
   "source": [
    "Neither upf nor hfss"
   ]
  },
  {
   "cell_type": "code",
   "execution_count": 84,
   "metadata": {},
   "outputs": [],
   "source": [
    "#food_noalcnovit_four = food_noalcnovit[food_noalcnovit['DiaryDaysCompleted']==4]"
   ]
  },
  {
   "cell_type": "code",
   "execution_count": 85,
   "metadata": {},
   "outputs": [],
   "source": [
    "grouped_food_noalcnovit_hfss_upf_neither = food_noalcnovit.groupby(['seriali', 'DayNo']).apply (lambda x: (np.min(x['total_weights']), np.sum (~x['lesshealthy'] * ~x['NOVA_UPF_NUPF_boolean']* x['TotalGrams'])/np.sum(x['TotalGrams'])))"
   ]
  },
  {
   "cell_type": "code",
   "execution_count": 86,
   "metadata": {},
   "outputs": [],
   "source": [
    "grouped_food_noalcnovit_hfss_upf_neither = grouped_food_noalcnovit_hfss_upf_neither.groupby(level=[0]).apply (lambda x: (np.min([y[0] for y in x]), np.mean ([y[1] for y in x])))"
   ]
  },
  {
   "cell_type": "code",
   "execution_count": 87,
   "metadata": {},
   "outputs": [
    {
     "data": {
      "text/plain": [
       "(0.6684532539616534, 0.18608018054552883, 15655)"
      ]
     },
     "execution_count": 87,
     "metadata": {},
     "output_type": "execute_result"
    }
   ],
   "source": [
    "x = grouped_food_noalcnovit_hfss_upf_neither\n",
    "weighted_avg_and_std (list(list_wo_nan(x)[1]), weights = [y for y in list_wo_nan(x)[0]])"
   ]
  },
  {
   "cell_type": "markdown",
   "metadata": {},
   "source": [
    "UPF SAMPLE ONLY"
   ]
  },
  {
   "cell_type": "code",
   "execution_count": 88,
   "metadata": {},
   "outputs": [],
   "source": [
    "food_noalcnovit_four_upf = food_noalcnovit[(food_noalcnovit[\"NOVA_UPF_NUPF_boolean\"])]"
   ]
  },
  {
   "cell_type": "code",
   "execution_count": 89,
   "metadata": {},
   "outputs": [],
   "source": [
    "grouped_food_noalcnovit_hfss_upfONLY = food_noalcnovit_four_upf.groupby(['seriali', 'DayNo']).apply (lambda x: (np.min(x['total_weights']), np.sum (x['lesshealthy'] * x['NOVA_UPF_NUPF_boolean']* x['TotalGrams'])/np.sum(x['TotalGrams'])))"
   ]
  },
  {
   "cell_type": "code",
   "execution_count": 90,
   "metadata": {},
   "outputs": [],
   "source": [
    "grouped_food_noalcnovit_hfss_upfONLY = grouped_food_noalcnovit_hfss_upfONLY.groupby(level=[0]).apply (lambda x: (np.min([y[0] for y in x]), np.mean ([y[1] for y in x])))"
   ]
  },
  {
   "cell_type": "code",
   "execution_count": 91,
   "metadata": {},
   "outputs": [
    {
     "data": {
      "text/plain": [
       "(0.40046305965829343, 0.1901057047182845, 15654)"
      ]
     },
     "execution_count": 91,
     "metadata": {},
     "output_type": "execute_result"
    }
   ],
   "source": [
    "x = grouped_food_noalcnovit_hfss_upfONLY\n",
    "weighted_avg_and_std (list(list_wo_nan(x)[1]), weights = [y for y in list_wo_nan(x)[0]])"
   ]
  },
  {
   "cell_type": "markdown",
   "metadata": {},
   "source": [
    "INDIVIDUAL DAILY WEIGHTED BY ENERGY"
   ]
  },
  {
   "cell_type": "markdown",
   "metadata": {},
   "source": [
    "We have some missing observations, which are removed. "
   ]
  },
  {
   "cell_type": "markdown",
   "metadata": {},
   "source": [
    "HFSS "
   ]
  },
  {
   "cell_type": "code",
   "execution_count": 92,
   "metadata": {},
   "outputs": [],
   "source": [
    "#food_noalcnovit_four = food_noalcnovit[food_noalcnovit['DiaryDaysCompleted']==4]"
   ]
  },
  {
   "cell_type": "code",
   "execution_count": 93,
   "metadata": {},
   "outputs": [],
   "source": [
    "grouped_food_noalcnovit_individual_HFSS = food_noalcnovit.groupby(['seriali', 'DayNo']).apply (lambda x: (np.min(x['total_weights']), np.sum (x['lesshealthy'] * x['Energykcal'])/np.sum(x['Energykcal'])))"
   ]
  },
  {
   "cell_type": "code",
   "execution_count": 94,
   "metadata": {},
   "outputs": [],
   "source": [
    "grouped_food_noalcnovit_individual_HFSS = grouped_food_noalcnovit_individual_HFSS.groupby(level=[0]).apply (lambda x: (np.min([y[0] for y in x]), np.mean ([y[1] for y in x])))"
   ]
  },
  {
   "cell_type": "code",
   "execution_count": 95,
   "metadata": {},
   "outputs": [
    {
     "name": "stdout",
     "output_type": "stream",
     "text": [
      "NaN\n",
      "NaN\n",
      "NaN\n",
      "NaN\n",
      "NaN\n",
      "NaN\n",
      "NaN\n",
      "NaN\n",
      "NaN\n",
      "NaN\n",
      "NaN\n",
      "NaN\n",
      "NaN\n",
      "NaN\n",
      "NaN\n",
      "NaN\n",
      "NaN\n",
      "NaN\n",
      "NaN\n",
      "NaN\n",
      "NaN\n",
      "NaN\n",
      "NaN\n",
      "NaN\n",
      "NaN\n",
      "NaN\n",
      "NaN\n",
      "NaN\n",
      "NaN\n",
      "NaN\n",
      "NaN\n",
      "NaN\n",
      "NaN\n",
      "NaN\n",
      "NaN\n",
      "NaN\n",
      "NaN\n",
      "NaN\n",
      "NaN\n",
      "NaN\n",
      "NaN\n",
      "NaN\n",
      "NaN\n",
      "NaN\n",
      "NaN\n",
      "NaN\n"
     ]
    },
    {
     "data": {
      "text/plain": [
       "(0.4366413046609531, 0.13212178702808752, 15632)"
      ]
     },
     "execution_count": 95,
     "metadata": {},
     "output_type": "execute_result"
    }
   ],
   "source": [
    "x = grouped_food_noalcnovit_individual_HFSS\n",
    "weighted_avg_and_std (list(list_wo_nan(x)[1]), weights = [y for y in list_wo_nan(x)[0]])"
   ]
  },
  {
   "cell_type": "markdown",
   "metadata": {},
   "source": [
    "UPF "
   ]
  },
  {
   "cell_type": "code",
   "execution_count": 96,
   "metadata": {},
   "outputs": [],
   "source": [
    "#food_noalcnovit_four = food_noalcnovit[food_noalcnovit['DiaryDaysCompleted']==4]"
   ]
  },
  {
   "cell_type": "code",
   "execution_count": 97,
   "metadata": {},
   "outputs": [],
   "source": [
    "grouped_food_noalcnovit_individual_UPF = food_noalcnovit.groupby(['seriali', 'DayNo']).apply (lambda x: (np.min(x['total_weights']), np.sum (x['NOVA_UPF_NUPF_boolean'] * x['Energykcal'])/np.sum(x['Energykcal'])))"
   ]
  },
  {
   "cell_type": "code",
   "execution_count": 98,
   "metadata": {},
   "outputs": [],
   "source": [
    "grouped_food_noalcnovit_individual_UPF = grouped_food_noalcnovit_individual_UPF.groupby(level=[0]).apply (lambda x: (np.min([y[0] for y in x]), np.mean ([y[1] for y in x])))"
   ]
  },
  {
   "cell_type": "code",
   "execution_count": 99,
   "metadata": {},
   "outputs": [
    {
     "name": "stdout",
     "output_type": "stream",
     "text": [
      "NaN\n",
      "NaN\n",
      "NaN\n",
      "NaN\n",
      "NaN\n",
      "NaN\n",
      "NaN\n",
      "NaN\n",
      "NaN\n",
      "NaN\n",
      "NaN\n",
      "NaN\n",
      "NaN\n",
      "NaN\n",
      "NaN\n",
      "NaN\n",
      "NaN\n",
      "NaN\n",
      "NaN\n",
      "NaN\n",
      "NaN\n",
      "NaN\n",
      "NaN\n",
      "NaN\n",
      "NaN\n",
      "NaN\n",
      "NaN\n",
      "NaN\n",
      "NaN\n",
      "NaN\n",
      "NaN\n",
      "NaN\n",
      "NaN\n",
      "NaN\n",
      "NaN\n",
      "NaN\n",
      "NaN\n",
      "NaN\n",
      "NaN\n",
      "NaN\n",
      "NaN\n",
      "NaN\n",
      "NaN\n",
      "NaN\n",
      "NaN\n",
      "NaN\n"
     ]
    },
    {
     "data": {
      "text/plain": [
       "(0.5491282608364579, 0.1570218502142123, 15632)"
      ]
     },
     "execution_count": 99,
     "metadata": {},
     "output_type": "execute_result"
    }
   ],
   "source": [
    "x = grouped_food_noalcnovit_individual_UPF\n",
    "weighted_avg_and_std (list(list_wo_nan(x)[1]), weights = [y for y in list_wo_nan(x)[0]])"
   ]
  },
  {
   "cell_type": "markdown",
   "metadata": {},
   "source": [
    "hfss and upf"
   ]
  },
  {
   "cell_type": "code",
   "execution_count": 100,
   "metadata": {},
   "outputs": [],
   "source": [
    "#food_noalcnovit_four = food_noalcnovit[food_noalcnovit['DiaryDaysCompleted']==4]"
   ]
  },
  {
   "cell_type": "code",
   "execution_count": 101,
   "metadata": {},
   "outputs": [],
   "source": [
    "grouped_food_noalcnovit_hfss_upf = food_noalcnovit.groupby(['seriali', 'DayNo']).apply (lambda x: (np.min(x['total_weights']), np.sum (x['lesshealthy'] * x['NOVA_UPF_NUPF_boolean']* x['Energykcal'])/np.sum(x['Energykcal'])))"
   ]
  },
  {
   "cell_type": "code",
   "execution_count": 102,
   "metadata": {},
   "outputs": [],
   "source": [
    "grouped_food_noalcnovit_hfss_upf = grouped_food_noalcnovit_hfss_upf.groupby(level=[0]).apply (lambda x: (np.min([y[0] for y in x]), np.mean ([y[1] for y in x])))"
   ]
  },
  {
   "cell_type": "code",
   "execution_count": 103,
   "metadata": {},
   "outputs": [
    {
     "name": "stdout",
     "output_type": "stream",
     "text": [
      "NaN\n",
      "NaN\n",
      "NaN\n",
      "NaN\n",
      "NaN\n",
      "NaN\n",
      "NaN\n",
      "NaN\n",
      "NaN\n",
      "NaN\n",
      "NaN\n",
      "NaN\n",
      "NaN\n",
      "NaN\n",
      "NaN\n",
      "NaN\n",
      "NaN\n",
      "NaN\n",
      "NaN\n",
      "NaN\n",
      "NaN\n",
      "NaN\n",
      "NaN\n",
      "NaN\n",
      "NaN\n",
      "NaN\n",
      "NaN\n",
      "NaN\n",
      "NaN\n",
      "NaN\n",
      "NaN\n",
      "NaN\n",
      "NaN\n",
      "NaN\n",
      "NaN\n",
      "NaN\n",
      "NaN\n",
      "NaN\n",
      "NaN\n",
      "NaN\n",
      "NaN\n",
      "NaN\n",
      "NaN\n",
      "NaN\n",
      "NaN\n",
      "NaN\n"
     ]
    },
    {
     "data": {
      "text/plain": [
       "(0.3028426114408593, 0.13755814847629347, 15632)"
      ]
     },
     "execution_count": 103,
     "metadata": {},
     "output_type": "execute_result"
    }
   ],
   "source": [
    "x = grouped_food_noalcnovit_hfss_upf\n",
    "weighted_avg_and_std (list(list_wo_nan(x)[1]), weights = [y for y in list_wo_nan(x)[0]])"
   ]
  },
  {
   "cell_type": "markdown",
   "metadata": {},
   "source": [
    "Less healthy only"
   ]
  },
  {
   "cell_type": "code",
   "execution_count": 104,
   "metadata": {},
   "outputs": [],
   "source": [
    "#food_noalcnovit_four = food_noalcnovit[food_noalcnovit['DiaryDaysCompleted']==4]"
   ]
  },
  {
   "cell_type": "code",
   "execution_count": 105,
   "metadata": {},
   "outputs": [],
   "source": [
    "grouped_food_noalcnovit_hfss_only = food_noalcnovit.groupby(['seriali', 'DayNo']).apply (lambda x: (np.min(x['total_weights']), np.sum (x['lesshealthy'] * ~x['NOVA_UPF_NUPF_boolean']* x['Energykcal'])/np.sum(x['Energykcal'])))"
   ]
  },
  {
   "cell_type": "code",
   "execution_count": 106,
   "metadata": {},
   "outputs": [],
   "source": [
    "grouped_food_noalcnovit_hfss_only = grouped_food_noalcnovit_hfss_only.groupby(level=[0]).apply (lambda x: (np.min([y[0] for y in x]), np.mean ([y[1] for y in x])))"
   ]
  },
  {
   "cell_type": "code",
   "execution_count": 107,
   "metadata": {},
   "outputs": [
    {
     "name": "stdout",
     "output_type": "stream",
     "text": [
      "NaN\n",
      "NaN\n",
      "NaN\n",
      "NaN\n",
      "NaN\n",
      "NaN\n",
      "NaN\n",
      "NaN\n",
      "NaN\n",
      "NaN\n",
      "NaN\n",
      "NaN\n",
      "NaN\n",
      "NaN\n",
      "NaN\n",
      "NaN\n",
      "NaN\n",
      "NaN\n",
      "NaN\n",
      "NaN\n",
      "NaN\n",
      "NaN\n",
      "NaN\n",
      "NaN\n",
      "NaN\n",
      "NaN\n",
      "NaN\n",
      "NaN\n",
      "NaN\n",
      "NaN\n",
      "NaN\n",
      "NaN\n",
      "NaN\n",
      "NaN\n",
      "NaN\n",
      "NaN\n",
      "NaN\n",
      "NaN\n",
      "NaN\n",
      "NaN\n",
      "NaN\n",
      "NaN\n",
      "NaN\n",
      "NaN\n",
      "NaN\n",
      "NaN\n"
     ]
    },
    {
     "data": {
      "text/plain": [
       "(0.1337986932200938, 0.08667656472097669, 15632)"
      ]
     },
     "execution_count": 107,
     "metadata": {},
     "output_type": "execute_result"
    }
   ],
   "source": [
    "x = grouped_food_noalcnovit_hfss_only\n",
    "weighted_avg_and_std (list(list_wo_nan(x)[1]), weights = [y for y in list_wo_nan(x)[0]])"
   ]
  },
  {
   "cell_type": "code",
   "execution_count": 108,
   "metadata": {},
   "outputs": [
    {
     "name": "stdout",
     "output_type": "stream",
     "text": [
      "NaN\n",
      "NaN\n",
      "NaN\n",
      "NaN\n",
      "NaN\n",
      "NaN\n",
      "NaN\n",
      "NaN\n",
      "NaN\n",
      "NaN\n",
      "NaN\n",
      "NaN\n",
      "NaN\n",
      "NaN\n",
      "NaN\n",
      "NaN\n",
      "NaN\n",
      "NaN\n",
      "NaN\n",
      "NaN\n",
      "NaN\n",
      "NaN\n",
      "NaN\n",
      "NaN\n",
      "NaN\n",
      "NaN\n",
      "NaN\n",
      "NaN\n",
      "NaN\n",
      "NaN\n",
      "NaN\n",
      "NaN\n",
      "NaN\n",
      "NaN\n",
      "NaN\n",
      "NaN\n",
      "NaN\n",
      "NaN\n",
      "NaN\n",
      "NaN\n",
      "NaN\n",
      "NaN\n",
      "NaN\n",
      "NaN\n",
      "NaN\n",
      "NaN\n"
     ]
    },
    {
     "data": {
      "text/plain": [
       "(0.1337986932200938, 0.08667656472097669, 15632)"
      ]
     },
     "execution_count": 108,
     "metadata": {},
     "output_type": "execute_result"
    }
   ],
   "source": [
    "\n",
    "x = grouped_food_noalcnovit_hfss_only\n",
    "weighted_avg_and_std (list(list_wo_nan(x)[1]), weights = [y for y in list_wo_nan(x)[0]])"
   ]
  },
  {
   "cell_type": "markdown",
   "metadata": {},
   "source": [
    "UPF ONLY"
   ]
  },
  {
   "cell_type": "code",
   "execution_count": 109,
   "metadata": {},
   "outputs": [],
   "source": [
    "#food_noalcnovit_four = food_noalcnovit[food_noalcnovit['DiaryDaysCompleted']==4]"
   ]
  },
  {
   "cell_type": "code",
   "execution_count": 110,
   "metadata": {},
   "outputs": [],
   "source": [
    "grouped_food_noalcnovit_upf_only = food_noalcnovit.groupby(['seriali', 'DayNo']).apply (lambda x: (np.min(x['total_weights']), np.sum (~x['lesshealthy'] * x['NOVA_UPF_NUPF_boolean']* x['Energykcal'])/np.sum(x['Energykcal'])))"
   ]
  },
  {
   "cell_type": "code",
   "execution_count": 111,
   "metadata": {},
   "outputs": [],
   "source": [
    "grouped_food_noalcnovit_upf_only = grouped_food_noalcnovit_upf_only.groupby(level=[0]).apply (lambda x: (np.min([y[0] for y in x]), np.mean ([y[1] for y in x])))"
   ]
  },
  {
   "cell_type": "code",
   "execution_count": 112,
   "metadata": {},
   "outputs": [
    {
     "name": "stdout",
     "output_type": "stream",
     "text": [
      "NaN\n",
      "NaN\n",
      "NaN\n",
      "NaN\n",
      "NaN\n",
      "NaN\n",
      "NaN\n",
      "NaN\n",
      "NaN\n",
      "NaN\n",
      "NaN\n",
      "NaN\n",
      "NaN\n",
      "NaN\n",
      "NaN\n",
      "NaN\n",
      "NaN\n",
      "NaN\n",
      "NaN\n",
      "NaN\n",
      "NaN\n",
      "NaN\n",
      "NaN\n",
      "NaN\n",
      "NaN\n",
      "NaN\n",
      "NaN\n",
      "NaN\n",
      "NaN\n",
      "NaN\n",
      "NaN\n",
      "NaN\n",
      "NaN\n",
      "NaN\n",
      "NaN\n",
      "NaN\n",
      "NaN\n",
      "NaN\n",
      "NaN\n",
      "NaN\n",
      "NaN\n",
      "NaN\n",
      "NaN\n",
      "NaN\n",
      "NaN\n",
      "NaN\n"
     ]
    },
    {
     "data": {
      "text/plain": [
       "(0.24628564939559863, 0.10465561048609152, 15632)"
      ]
     },
     "execution_count": 112,
     "metadata": {},
     "output_type": "execute_result"
    }
   ],
   "source": [
    "x = grouped_food_noalcnovit_upf_only\n",
    "weighted_avg_and_std (list(list_wo_nan(x)[1]), weights = [y for y in list_wo_nan(x)[0]])"
   ]
  },
  {
   "cell_type": "markdown",
   "metadata": {},
   "source": [
    "neither upf nor hfss"
   ]
  },
  {
   "cell_type": "code",
   "execution_count": 113,
   "metadata": {},
   "outputs": [],
   "source": [
    "#food_noalcnovit_four = food_noalcnovit[food_noalcnovit['DiaryDaysCompleted']==4]"
   ]
  },
  {
   "cell_type": "code",
   "execution_count": 114,
   "metadata": {},
   "outputs": [],
   "source": [
    "grouped_food_noalcnovit_upf_hfss_neither = food_noalcnovit.groupby(['seriali', 'DayNo']).apply (lambda x: (np.min(x['total_weights']), np.sum (~x['lesshealthy'] * ~x['NOVA_UPF_NUPF_boolean']* x['Energykcal'])/np.sum(x['Energykcal'])))"
   ]
  },
  {
   "cell_type": "code",
   "execution_count": 115,
   "metadata": {},
   "outputs": [],
   "source": [
    "grouped_food_noalcnovit_upf_hfss_neither = grouped_food_noalcnovit_upf_hfss_neither.groupby(level=[0]).apply (lambda x: (np.min([y[0] for y in x]), np.mean ([y[1] for y in x])))"
   ]
  },
  {
   "cell_type": "code",
   "execution_count": 116,
   "metadata": {},
   "outputs": [
    {
     "name": "stdout",
     "output_type": "stream",
     "text": [
      "NaN\n",
      "NaN\n",
      "NaN\n",
      "NaN\n",
      "NaN\n",
      "NaN\n",
      "NaN\n",
      "NaN\n",
      "NaN\n",
      "NaN\n",
      "NaN\n",
      "NaN\n",
      "NaN\n",
      "NaN\n",
      "NaN\n",
      "NaN\n",
      "NaN\n",
      "NaN\n",
      "NaN\n",
      "NaN\n",
      "NaN\n",
      "NaN\n",
      "NaN\n",
      "NaN\n",
      "NaN\n",
      "NaN\n",
      "NaN\n",
      "NaN\n",
      "NaN\n",
      "NaN\n",
      "NaN\n",
      "NaN\n",
      "NaN\n",
      "NaN\n",
      "NaN\n",
      "NaN\n",
      "NaN\n",
      "NaN\n",
      "NaN\n",
      "NaN\n",
      "NaN\n",
      "NaN\n",
      "NaN\n",
      "NaN\n",
      "NaN\n",
      "NaN\n"
     ]
    },
    {
     "data": {
      "text/plain": [
       "(0.3170730459434484, 0.136177616590026, 15632)"
      ]
     },
     "execution_count": 116,
     "metadata": {},
     "output_type": "execute_result"
    }
   ],
   "source": [
    "x = grouped_food_noalcnovit_upf_hfss_neither\n",
    "weighted_avg_and_std (list(list_wo_nan(x)[1]), weights = [y for y in list_wo_nan(x)[0]])"
   ]
  },
  {
   "cell_type": "markdown",
   "metadata": {},
   "source": [
    "UPF SAMPLE ONLY"
   ]
  },
  {
   "cell_type": "code",
   "execution_count": 117,
   "metadata": {},
   "outputs": [],
   "source": [
    "food_noalcnovit_four_upf = food_noalcnovit[(food_noalcnovit[\"NOVA_UPF_NUPF_boolean\"])]"
   ]
  },
  {
   "cell_type": "code",
   "execution_count": 118,
   "metadata": {},
   "outputs": [],
   "source": [
    "grouped_food_noalcnovit_upfsample = food_noalcnovit_four_upf.groupby(['seriali', 'DayNo']).apply (lambda x: (np.min(x['total_weights']), np.sum (x['lesshealthy'] * x['NOVA_UPF_NUPF_boolean']* x['Energykcal'])/np.sum(x['Energykcal'])))"
   ]
  },
  {
   "cell_type": "code",
   "execution_count": 119,
   "metadata": {},
   "outputs": [],
   "source": [
    "grouped_food_noalcnovit_upfsample = grouped_food_noalcnovit_upfsample.groupby(level=[0]).apply (lambda x: (np.min([y[0] for y in x]), np.mean ([y[1] for y in x])))"
   ]
  },
  {
   "cell_type": "code",
   "execution_count": 120,
   "metadata": {},
   "outputs": [
    {
     "name": "stdout",
     "output_type": "stream",
     "text": [
      "NaN\n",
      "NaN\n",
      "NaN\n",
      "NaN\n",
      "NaN\n",
      "NaN\n",
      "NaN\n",
      "NaN\n",
      "NaN\n",
      "NaN\n"
     ]
    },
    {
     "data": {
      "text/plain": [
       "(0.538583668996331, 0.1725595060605059, 15649)"
      ]
     },
     "execution_count": 120,
     "metadata": {},
     "output_type": "execute_result"
    }
   ],
   "source": [
    "x = grouped_food_noalcnovit_upfsample\n",
    "weighted_avg_and_std (list(list_wo_nan(x)[1]), weights = [y for y in list_wo_nan(x)[0]])"
   ]
  },
  {
   "cell_type": "markdown",
   "metadata": {},
   "source": [
    "Summaries for individual daily consumption"
   ]
  },
  {
   "cell_type": "markdown",
   "metadata": {},
   "source": [
    "individual daily consumption"
   ]
  },
  {
   "cell_type": "code",
   "execution_count": 121,
   "metadata": {},
   "outputs": [],
   "source": [
    "#food_noalcnovit_four = food_noalcnovit[food_noalcnovit['DiaryDaysCompleted']==4]"
   ]
  },
  {
   "cell_type": "code",
   "execution_count": 122,
   "metadata": {},
   "outputs": [],
   "source": [
    "grouped_food_noalcnovit_individual = food_noalcnovit.groupby(['seriali', 'DayNo']).apply (lambda x: (np.min(x['total_weights']), np.sum (x['lesshealthy'])/len(x['lesshealthy'])))"
   ]
  },
  {
   "cell_type": "code",
   "execution_count": 123,
   "metadata": {},
   "outputs": [],
   "source": [
    "grouped_food_noalcnovit_individual = grouped_food_noalcnovit_individual.groupby(level=[0]).apply (lambda x: (np.min([y[0] for y in x]), np.mean ([y[1] for y in x])))"
   ]
  },
  {
   "cell_type": "code",
   "execution_count": 124,
   "metadata": {},
   "outputs": [
    {
     "data": {
      "text/plain": [
       "seriali\n",
       "10101032                  (1.0634205, 0.609375)\n",
       "10101042      (0.93880826, 0.26329139610389607)\n",
       "10101111       (1.8103184, 0.47808228300219147)\n",
       "10101151        (2.1780238, 0.2347550675675676)\n",
       "10101161      (0.86775178, 0.20160566084479126)\n",
       "                            ...                \n",
       "901212091     (0.50142938, 0.22903505512201164)\n",
       "901212101      (0.34787661, 0.3892615290578906)\n",
       "901212113     (0.045170452, 0.4791666666666667)\n",
       "901212132      (0.41703701, 0.3233743686868687)\n",
       "901212133    (0.044426363, 0.34119152046783624)\n",
       "Length: 15655, dtype: object"
      ]
     },
     "execution_count": 124,
     "metadata": {},
     "output_type": "execute_result"
    }
   ],
   "source": [
    "grouped_food_noalcnovit_individual"
   ]
  },
  {
   "cell_type": "code",
   "execution_count": 125,
   "metadata": {},
   "outputs": [
    {
     "data": {
      "text/plain": [
       "(0.32042224117714335, 0.1063430981406811, 15655)"
      ]
     },
     "execution_count": 125,
     "metadata": {},
     "output_type": "execute_result"
    }
   ],
   "source": [
    "x = grouped_food_noalcnovit_individual\n",
    "weighted_avg_and_std (list(list_wo_nan(x)[1]), weights = [y for y in list_wo_nan(x)[0]])"
   ]
  },
  {
   "cell_type": "markdown",
   "metadata": {},
   "source": [
    "for UPFs"
   ]
  },
  {
   "cell_type": "code",
   "execution_count": 126,
   "metadata": {},
   "outputs": [],
   "source": [
    "#food_noalcnovit_four = food_noalcnovit[food_noalcnovit['DiaryDaysCompleted']==4]"
   ]
  },
  {
   "cell_type": "code",
   "execution_count": 127,
   "metadata": {},
   "outputs": [],
   "source": [
    "grouped_food_noalcnovit_individual_upf = food_noalcnovit.groupby(['seriali', 'DayNo']).apply (lambda x: (np.min(x['total_weights']), np.sum (x['NOVA_UPF_NUPF_boolean'])/len(x['NOVA_UPF_NUPF_boolean'])))"
   ]
  },
  {
   "cell_type": "code",
   "execution_count": 128,
   "metadata": {},
   "outputs": [],
   "source": [
    "grouped_food_noalcnovit_individual_upf = grouped_food_noalcnovit_individual_upf.groupby(level=[0]).apply (lambda x: (np.min([y[0] for y in x]), np.mean ([y[1] for y in x])))"
   ]
  },
  {
   "cell_type": "code",
   "execution_count": 129,
   "metadata": {},
   "outputs": [
    {
     "data": {
      "text/plain": [
       "(0.33558241141438844, 0.1558754514402835, 15655)"
      ]
     },
     "execution_count": 129,
     "metadata": {},
     "output_type": "execute_result"
    }
   ],
   "source": [
    "x = grouped_food_noalcnovit_individual_upf\n",
    "weighted_avg_and_std (list(list_wo_nan(x)[1]), weights = [y for y in list_wo_nan(x)[0]])"
   ]
  },
  {
   "cell_type": "markdown",
   "metadata": {},
   "source": [
    "UPFs and HFSS"
   ]
  },
  {
   "cell_type": "code",
   "execution_count": 130,
   "metadata": {},
   "outputs": [],
   "source": [
    "#food_noalcnovit_four = food_noalcnovit[food_noalcnovit['DiaryDaysCompleted']==4]"
   ]
  },
  {
   "cell_type": "code",
   "execution_count": 131,
   "metadata": {},
   "outputs": [],
   "source": [
    "grouped_food_noalcnovit_upf_hfss = food_noalcnovit.groupby(['seriali', 'DayNo']).apply (lambda x: (np.min(x['total_weights']), np.sum (x['lesshealthy'] * x['NOVA_UPF_NUPF_boolean'])/len(x['NOVA_UPF_NUPF_boolean'])))"
   ]
  },
  {
   "cell_type": "code",
   "execution_count": 132,
   "metadata": {},
   "outputs": [],
   "source": [
    "grouped_food_noalcnovit_upf_hfss = grouped_food_noalcnovit_upf_hfss.groupby(level=[0]).apply (lambda x: (np.min([y[0] for y in x]), np.mean ([y[1] for y in x])))"
   ]
  },
  {
   "cell_type": "code",
   "execution_count": 133,
   "metadata": {},
   "outputs": [
    {
     "data": {
      "text/plain": [
       "(0.18532702511829816, 0.10027081217398329, 15655)"
      ]
     },
     "execution_count": 133,
     "metadata": {},
     "output_type": "execute_result"
    }
   ],
   "source": [
    "x = grouped_food_noalcnovit_upf_hfss\n",
    "weighted_avg_and_std (list(list_wo_nan(x)[1]), weights = [y for y in list_wo_nan(x)[0]])"
   ]
  },
  {
   "cell_type": "markdown",
   "metadata": {},
   "source": [
    "UPF only"
   ]
  },
  {
   "cell_type": "code",
   "execution_count": 134,
   "metadata": {},
   "outputs": [],
   "source": [
    "#food_noalcnovit_four = food_noalcnovit[food_noalcnovit['DiaryDaysCompleted']==4]"
   ]
  },
  {
   "cell_type": "code",
   "execution_count": 135,
   "metadata": {},
   "outputs": [],
   "source": [
    "grouped_food_noalcnovit_upf_only = food_noalcnovit.groupby(['seriali', 'DayNo']).apply (lambda x: (np.min(x['total_weights']), np.sum (~x['lesshealthy'] * x['NOVA_UPF_NUPF_boolean'])/len(x['NOVA_UPF_NUPF_boolean'])))"
   ]
  },
  {
   "cell_type": "code",
   "execution_count": 136,
   "metadata": {},
   "outputs": [],
   "source": [
    "grouped_food_noalcnovit_upf_only = grouped_food_noalcnovit_upf_only.groupby(level=[0]).apply (lambda x: (np.min([y[0] for y in x]), np.mean ([y[1] for y in x])))"
   ]
  },
  {
   "cell_type": "code",
   "execution_count": 137,
   "metadata": {},
   "outputs": [
    {
     "data": {
      "text/plain": [
       "(0.1502553862960903, 0.0886796082185862, 15655)"
      ]
     },
     "execution_count": 137,
     "metadata": {},
     "output_type": "execute_result"
    }
   ],
   "source": [
    "x = grouped_food_noalcnovit_upf_only\n",
    "weighted_avg_and_std (list(list_wo_nan(x)[1]), weights = [y for y in list_wo_nan(x)[0]])"
   ]
  },
  {
   "cell_type": "markdown",
   "metadata": {},
   "source": [
    "HFSS only"
   ]
  },
  {
   "cell_type": "code",
   "execution_count": 138,
   "metadata": {},
   "outputs": [],
   "source": [
    "#food_noalcnovit_four = food_noalcnovit[food_noalcnovit['DiaryDaysCompleted']==4]"
   ]
  },
  {
   "cell_type": "code",
   "execution_count": 139,
   "metadata": {},
   "outputs": [],
   "source": [
    "grouped_food_noalcnovit_hfss_only = food_noalcnovit.groupby(['seriali', 'DayNo']).apply (lambda x: (np.min(x['total_weights']), np.sum (x['lesshealthy'] * ~x['NOVA_UPF_NUPF_boolean'])/len(x['NOVA_UPF_NUPF_boolean'])))"
   ]
  },
  {
   "cell_type": "code",
   "execution_count": 140,
   "metadata": {},
   "outputs": [],
   "source": [
    "grouped_food_noalcnovit_hfss_only = grouped_food_noalcnovit_hfss_only.groupby(level=[0]).apply (lambda x: (np.min([y[0] for y in x]), np.mean ([y[1] for y in x])))"
   ]
  },
  {
   "cell_type": "code",
   "execution_count": 141,
   "metadata": {},
   "outputs": [
    {
     "data": {
      "text/plain": [
       "(0.13509521605884517, 0.08065166842957708, 15655)"
      ]
     },
     "execution_count": 141,
     "metadata": {},
     "output_type": "execute_result"
    }
   ],
   "source": [
    "x = grouped_food_noalcnovit_hfss_only\n",
    "weighted_avg_and_std (list(list_wo_nan(x)[1]), weights = [y for y in list_wo_nan(x)[0]])"
   ]
  },
  {
   "cell_type": "markdown",
   "metadata": {},
   "source": [
    "Neither HFSS nor UPF"
   ]
  },
  {
   "cell_type": "code",
   "execution_count": 142,
   "metadata": {},
   "outputs": [],
   "source": [
    "#food_noalcnovit_four = food_noalcnovit[food_noalcnovit['DiaryDaysCompleted']==4]"
   ]
  },
  {
   "cell_type": "code",
   "execution_count": 143,
   "metadata": {},
   "outputs": [],
   "source": [
    "grouped_food_noalcnovit_hfss_upf_neither = food_noalcnovit.groupby(['seriali', 'DayNo']).apply (lambda x: (np.min(x['total_weights']), np.sum (~x['lesshealthy'] * ~x['NOVA_UPF_NUPF_boolean'])/len(x['NOVA_UPF_NUPF_boolean'])))"
   ]
  },
  {
   "cell_type": "code",
   "execution_count": 144,
   "metadata": {},
   "outputs": [],
   "source": [
    "grouped_food_noalcnovit_hfss_upf_neither = grouped_food_noalcnovit_hfss_upf_neither.groupby(level=[0]).apply (lambda x: (np.min([y[0] for y in x]), np.mean ([y[1] for y in x])))"
   ]
  },
  {
   "cell_type": "code",
   "execution_count": 145,
   "metadata": {},
   "outputs": [
    {
     "data": {
      "text/plain": [
       "(0.5293223725267663, 0.14361502766662748, 15655)"
      ]
     },
     "execution_count": 145,
     "metadata": {},
     "output_type": "execute_result"
    }
   ],
   "source": [
    "x = grouped_food_noalcnovit_hfss_upf_neither\n",
    "weighted_avg_and_std (list(list_wo_nan(x)[1]), weights = [y for y in list_wo_nan(x)[0]])"
   ]
  },
  {
   "cell_type": "markdown",
   "metadata": {},
   "source": [
    "UPF and HFSS OVERLAP AMONG UPF PRODUCTS"
   ]
  },
  {
   "cell_type": "code",
   "execution_count": 146,
   "metadata": {},
   "outputs": [],
   "source": [
    "food_noalcnovit_four_upf = food_noalcnovit[(food_noalcnovit[\"NOVA_UPF_NUPF_boolean\"])]"
   ]
  },
  {
   "cell_type": "code",
   "execution_count": 147,
   "metadata": {},
   "outputs": [],
   "source": [
    "grouped_food_noalcnovit_hfss_upf_upfsample = food_noalcnovit_four_upf.groupby(['seriali', 'DayNo']).apply (lambda x: (np.min(x['total_weights']), np.sum (x['lesshealthy'] * x['NOVA_UPF_NUPF_boolean'])/len(x['NOVA_UPF_NUPF_boolean'])))"
   ]
  },
  {
   "cell_type": "code",
   "execution_count": 148,
   "metadata": {},
   "outputs": [],
   "source": [
    "grouped_food_noalcnovit_hfss_upf_upfsample = grouped_food_noalcnovit_hfss_upf_upfsample.groupby(level=[0]).apply (lambda x: (np.min([y[0] for y in x]), np.mean ([y[1] for y in x])))"
   ]
  },
  {
   "cell_type": "code",
   "execution_count": 149,
   "metadata": {},
   "outputs": [
    {
     "data": {
      "text/plain": [
       "(0.5512048969219875, 0.1550869313692123, 15654)"
      ]
     },
     "execution_count": 149,
     "metadata": {},
     "output_type": "execute_result"
    }
   ],
   "source": [
    "x = grouped_food_noalcnovit_hfss_upf_upfsample\n",
    "weighted_avg_and_std (list(list_wo_nan(x)[1]), weights = [y for y in list_wo_nan(x)[0]])"
   ]
  },
  {
   "cell_type": "markdown",
   "metadata": {},
   "source": [
    "Individual analyses by gender"
   ]
  },
  {
   "cell_type": "markdown",
   "metadata": {},
   "source": [
    "Less healthy"
   ]
  },
  {
   "cell_type": "code",
   "execution_count": 150,
   "metadata": {},
   "outputs": [],
   "source": [
    "#food_noalcnovit_four = food_noalcnovit[food_noalcnovit['DiaryDaysCompleted']==4]"
   ]
  },
  {
   "cell_type": "code",
   "execution_count": 151,
   "metadata": {},
   "outputs": [],
   "source": [
    "grouped_food_noalcnovit_individual = food_noalcnovit.groupby(['Sex', 'seriali', 'DayNo']).apply (lambda x: (np.min(x['total_weights']), np.sum (x['lesshealthy'])/len(x['lesshealthy'])))"
   ]
  },
  {
   "cell_type": "code",
   "execution_count": 152,
   "metadata": {},
   "outputs": [],
   "source": [
    "grouped_food_noalcnovit_individual = grouped_food_noalcnovit_individual.groupby(level=[0, 1]).apply (lambda x: (np.min([y[0] for y in x]), np.mean ([y[1] for y in x])))"
   ]
  },
  {
   "cell_type": "code",
   "execution_count": 153,
   "metadata": {},
   "outputs": [
    {
     "name": "stdout",
     "output_type": "stream",
     "text": [
      "                                                    0\n",
      "Sex                                                  \n",
      "1    (0.33248007384476963, 0.10611370726986862, 7207)\n",
      "2     (0.3087528565373516, 0.10525748481486889, 8448)\n"
     ]
    }
   ],
   "source": [
    "result = grouped_food_noalcnovit_individual.groupby(level=[0]).apply (lambda x: weighted_avg_and_std (list(list_wo_nan(x)[1]), weights = [y for y in list_wo_nan(x)[0]]))\n",
    "pd.set_option(\"display.max_rows\", None, \"display.max_columns\", None)\n",
    "pd.set_option('display.max_rows', 500)\n",
    "pd.set_option('display.max_rows', 1000)\n",
    "pd.set_option('display.max_columns', 500)\n",
    "pd.set_option('display.width', 1000)\n",
    "print (result.to_frame().to_string())"
   ]
  },
  {
   "cell_type": "markdown",
   "metadata": {},
   "source": [
    "UPF "
   ]
  },
  {
   "cell_type": "code",
   "execution_count": 154,
   "metadata": {},
   "outputs": [],
   "source": [
    "#food_noalcnovit_four = food_noalcnovit[food_noalcnovit['DiaryDaysCompleted']==4]"
   ]
  },
  {
   "cell_type": "code",
   "execution_count": 155,
   "metadata": {},
   "outputs": [],
   "source": [
    "grouped_food_noalcnovit_individual_upf = food_noalcnovit.groupby(['Sex', 'seriali', 'DayNo']).apply (lambda x: (np.min(x['total_weights']), np.sum (x['NOVA_UPF_NUPF_boolean'])/len(x['NOVA_UPF_NUPF_boolean'])))"
   ]
  },
  {
   "cell_type": "code",
   "execution_count": 156,
   "metadata": {},
   "outputs": [],
   "source": [
    "grouped_food_noalcnovit_individual_upf = grouped_food_noalcnovit_individual_upf.groupby(level=[0, 1]).apply (lambda x: (np.min([y[0] for y in x]), np.mean ([y[1] for y in x])))"
   ]
  },
  {
   "cell_type": "code",
   "execution_count": 157,
   "metadata": {},
   "outputs": [
    {
     "data": {
      "text/plain": [
       "Sex\n",
       "1    (0.34790595962317916, 0.15865962867024272, 7207)\n",
       "2    (0.32365587136863866, 0.15218550203457257, 8448)\n",
       "dtype: object"
      ]
     },
     "execution_count": 157,
     "metadata": {},
     "output_type": "execute_result"
    }
   ],
   "source": [
    "\n",
    "        \n",
    "grouped_food_noalcnovit_individual_upf.groupby(level=[0]).apply (lambda x:  weighted_avg_and_std (list(list_wo_nan(x)[1]), weights = [y for y in list_wo_nan(x)[0]]))"
   ]
  },
  {
   "cell_type": "markdown",
   "metadata": {},
   "source": [
    "UPF and HFSS"
   ]
  },
  {
   "cell_type": "code",
   "execution_count": 158,
   "metadata": {},
   "outputs": [],
   "source": [
    "#food_noalcnovit_four = food_noalcnovit[food_noalcnovit['DiaryDaysCompleted']==4]"
   ]
  },
  {
   "cell_type": "code",
   "execution_count": 159,
   "metadata": {},
   "outputs": [],
   "source": [
    "grouped_food_noalcnovit_hfss_upf= food_noalcnovit.groupby(['Sex','seriali', 'DayNo']).apply (lambda x: (np.min(x['total_weights']), np.sum (x['lesshealthy'] * x['NOVA_UPF_NUPF_boolean'])/len(x['NOVA_UPF_NUPF_boolean'])))"
   ]
  },
  {
   "cell_type": "code",
   "execution_count": 160,
   "metadata": {},
   "outputs": [],
   "source": [
    "grouped_food_noalcnovit_hfss_upf_combined = grouped_food_noalcnovit_hfss_upf.groupby(level=[0, 1]).apply (lambda x: (np.min([y[0] for y in x]), np.mean ([y[1] for y in x])))"
   ]
  },
  {
   "cell_type": "code",
   "execution_count": 161,
   "metadata": {},
   "outputs": [
    {
     "data": {
      "text/plain": [
       "Sex\n",
       "1    (0.19348154849575872, 0.10360183205633607, 7207)\n",
       "2    (0.17743520305799965, 0.09628278479741917, 8448)\n",
       "dtype: object"
      ]
     },
     "execution_count": 161,
     "metadata": {},
     "output_type": "execute_result"
    }
   ],
   "source": [
    "grouped_food_noalcnovit_hfss_upf_combined.groupby(level=[0]).apply (lambda x: weighted_avg_and_std (list(list_wo_nan(x)[1]), weights = [y for y in list_wo_nan(x)[0]]))"
   ]
  },
  {
   "cell_type": "markdown",
   "metadata": {},
   "source": [
    "UPF only"
   ]
  },
  {
   "cell_type": "code",
   "execution_count": 162,
   "metadata": {},
   "outputs": [],
   "source": [
    "#food_noalcnovit_four = food_noalcnovit[food_noalcnovit['DiaryDaysCompleted']==4]"
   ]
  },
  {
   "cell_type": "code",
   "execution_count": 163,
   "metadata": {},
   "outputs": [],
   "source": [
    "grouped_food_noalcnovit_upf_only= food_noalcnovit.groupby(['Sex','seriali', 'DayNo']).apply (lambda x: (np.min(x['total_weights']), np.sum (~x['lesshealthy'] * x['NOVA_UPF_NUPF_boolean'])/len(x['NOVA_UPF_NUPF_boolean'])))"
   ]
  },
  {
   "cell_type": "code",
   "execution_count": 164,
   "metadata": {},
   "outputs": [
    {
     "data": {
      "text/plain": [
       "Sex\n",
       "1       (0.1543877274605864, 0.109088462089645, 28693)\n",
       "2    (0.14607743353722027, 0.10809008983962169, 33604)\n",
       "dtype: object"
      ]
     },
     "execution_count": 164,
     "metadata": {},
     "output_type": "execute_result"
    }
   ],
   "source": [
    "grouped_food_noalcnovit_upf_only.groupby(level=[0]).apply (lambda x: weighted_avg_and_std (list(list_wo_nan(x)[1]), weights = [y for y in list_wo_nan(x)[0]]))"
   ]
  },
  {
   "cell_type": "markdown",
   "metadata": {},
   "source": [
    "HFSS only"
   ]
  },
  {
   "cell_type": "code",
   "execution_count": 165,
   "metadata": {},
   "outputs": [],
   "source": [
    "#food_noalcnovit_four = food_noalcnovit[food_noalcnovit['DiaryDaysCompleted']==4]"
   ]
  },
  {
   "cell_type": "code",
   "execution_count": 166,
   "metadata": {},
   "outputs": [],
   "source": [
    "grouped_food_noalcnovit_hfss_only= food_noalcnovit.groupby(['Sex','seriali', 'DayNo']).apply (lambda x: (np.min(x['total_weights']), np.sum (x['lesshealthy'] * ~x['NOVA_UPF_NUPF_boolean'])/len(x['NOVA_UPF_NUPF_boolean'])))"
   ]
  },
  {
   "cell_type": "code",
   "execution_count": 167,
   "metadata": {},
   "outputs": [
    {
     "data": {
      "text/plain": [
       "Sex\n",
       "1    (0.13896995553819408, 0.09710415326102818, 28693)\n",
       "2     (0.1313086983843479, 0.09689329994884956, 33604)\n",
       "dtype: object"
      ]
     },
     "execution_count": 167,
     "metadata": {},
     "output_type": "execute_result"
    }
   ],
   "source": [
    "grouped_food_noalcnovit_hfss_only.groupby(level=[0]).apply (lambda x: weighted_avg_and_std (list(list_wo_nan(x)[1]), weights = [y for y in list_wo_nan(x)[0]]))"
   ]
  },
  {
   "cell_type": "markdown",
   "metadata": {},
   "source": [
    "Neither HFSS nor UPF"
   ]
  },
  {
   "cell_type": "code",
   "execution_count": 168,
   "metadata": {},
   "outputs": [],
   "source": [
    "#food_noalcnovit_four = food_noalcnovit[food_noalcnovit['DiaryDaysCompleted']==4]"
   ]
  },
  {
   "cell_type": "code",
   "execution_count": 169,
   "metadata": {},
   "outputs": [],
   "source": [
    "grouped_food_noalcnovit_hfss_upf_neither= food_noalcnovit.groupby(['Sex','seriali', 'DayNo']).apply (lambda x: (np.min(x['total_weights']), np.sum (~x['lesshealthy'] * ~x['NOVA_UPF_NUPF_boolean'])/len(x['NOVA_UPF_NUPF_boolean'])))"
   ]
  },
  {
   "cell_type": "code",
   "execution_count": 170,
   "metadata": {},
   "outputs": [
    {
     "data": {
      "text/plain": [
       "Sex\n",
       "1    (0.5132231607701108, 0.16841807157468827, 28693)\n",
       "2    (0.5451024273574165, 0.16525495339710378, 33604)\n",
       "dtype: object"
      ]
     },
     "execution_count": 170,
     "metadata": {},
     "output_type": "execute_result"
    }
   ],
   "source": [
    "grouped_food_noalcnovit_hfss_upf_neither.groupby(level=[0]).apply (lambda x: weighted_avg_and_std (list(list_wo_nan(x)[1]), weights = [y for y in list_wo_nan(x)[0]]))"
   ]
  },
  {
   "cell_type": "markdown",
   "metadata": {},
   "source": [
    "UPF and HFSS among UPF only"
   ]
  },
  {
   "cell_type": "code",
   "execution_count": 171,
   "metadata": {},
   "outputs": [],
   "source": [
    "food_noalcnovit_four_upf = food_noalcnovit[(food_noalcnovit[\"NOVA_UPF_NUPF_boolean\"])]"
   ]
  },
  {
   "cell_type": "code",
   "execution_count": 172,
   "metadata": {},
   "outputs": [],
   "source": [
    "grouped_food_noalcnovit_upf_sample = food_noalcnovit_four_upf.groupby(['Sex', 'seriali', 'DayNo']).apply (lambda x: (np.min(x['total_weights']), np.sum (x['lesshealthy'] * x['NOVA_UPF_NUPF_boolean'])/len(x['NOVA_UPF_NUPF_boolean'])))"
   ]
  },
  {
   "cell_type": "code",
   "execution_count": 173,
   "metadata": {},
   "outputs": [
    {
     "data": {
      "text/plain": [
       "Sex\n",
       "1     (0.5520878247770055, 0.2115957015557635, 28610)\n",
       "2    (0.5513435694771694, 0.21606286230923785, 33504)\n",
       "dtype: object"
      ]
     },
     "execution_count": 173,
     "metadata": {},
     "output_type": "execute_result"
    }
   ],
   "source": [
    "grouped_food_noalcnovit_upf_sample.groupby(level=[0]).apply (lambda x: weighted_avg_and_std (list(list_wo_nan(x)[1]), weights = [y for y in list_wo_nan(x)[0]]))"
   ]
  },
  {
   "cell_type": "markdown",
   "metadata": {},
   "source": [
    "Less healthy by total weight"
   ]
  },
  {
   "cell_type": "code",
   "execution_count": 174,
   "metadata": {},
   "outputs": [],
   "source": [
    "#food_noalcnovit_four = food_noalcnovit[food_noalcnovit['DiaryDaysCompleted']==4]"
   ]
  },
  {
   "cell_type": "code",
   "execution_count": 175,
   "metadata": {},
   "outputs": [],
   "source": [
    "grouped_food_noalcnovit_hfss_weight = food_noalcnovit.groupby(['Sex', 'seriali', 'DayNo']).apply (lambda x: (np.min(x['total_weights']), np.sum (x['lesshealthy'] * x['TotalGrams'])/np.sum(x['TotalGrams'])))"
   ]
  },
  {
   "cell_type": "code",
   "execution_count": 176,
   "metadata": {},
   "outputs": [],
   "source": [
    "grouped_food_noalcnovit_hfss_weight = grouped_food_noalcnovit_hfss_weight.groupby(level=[0, 1]).apply (lambda x: (np.min([y[0] for y in x]), np.mean ([y[1] for y in x])))"
   ]
  },
  {
   "cell_type": "code",
   "execution_count": 177,
   "metadata": {},
   "outputs": [
    {
     "data": {
      "text/plain": [
       "Sex\n",
       "1     (0.1634696426571547, 0.11186906960389853, 7207)\n",
       "2    (0.13628594008416187, 0.10355663722383324, 8448)\n",
       "dtype: object"
      ]
     },
     "execution_count": 177,
     "metadata": {},
     "output_type": "execute_result"
    }
   ],
   "source": [
    "grouped_food_noalcnovit_hfss_weight.groupby(level=[0]).apply (lambda x: weighted_avg_and_std (list(list_wo_nan(x)[1]), weights = [y for y in list_wo_nan(x)[0]]))"
   ]
  },
  {
   "cell_type": "markdown",
   "metadata": {},
   "source": [
    "UPF by total weight "
   ]
  },
  {
   "cell_type": "code",
   "execution_count": 178,
   "metadata": {},
   "outputs": [],
   "source": [
    "#food_noalcnovit_four = food_noalcnovit[food_noalcnovit['DiaryDaysCompleted']==4]"
   ]
  },
  {
   "cell_type": "code",
   "execution_count": 179,
   "metadata": {},
   "outputs": [],
   "source": [
    "grouped_food_noalcnovit_upf_weight = food_noalcnovit.groupby(['Sex', 'seriali', 'DayNo']).apply (lambda x: (np.min(x['total_weights']), np.sum (x['NOVA_UPF_NUPF_boolean'] * x['TotalGrams'])/np.sum(x['TotalGrams'])))"
   ]
  },
  {
   "cell_type": "code",
   "execution_count": 180,
   "metadata": {},
   "outputs": [
    {
     "data": {
      "text/plain": [
       "Sex\n",
       "1    (0.31684780918853217, 0.21524940899270767, 28693)\n",
       "2     (0.2775920940968645, 0.20729302755958556, 33604)\n",
       "dtype: object"
      ]
     },
     "execution_count": 180,
     "metadata": {},
     "output_type": "execute_result"
    }
   ],
   "source": [
    "grouped_food_noalcnovit_upf_weight.groupby(level=[0]).apply (lambda x: weighted_avg_and_std (list(list_wo_nan(x)[1]), weights = [y for y in list_wo_nan(x)[0]]))"
   ]
  },
  {
   "cell_type": "markdown",
   "metadata": {},
   "source": [
    "UPF and less healthy by weight"
   ]
  },
  {
   "cell_type": "code",
   "execution_count": 181,
   "metadata": {},
   "outputs": [],
   "source": [
    "#food_noalcnovit_four = food_noalcnovit[food_noalcnovit['DiaryDaysCompleted']==4]"
   ]
  },
  {
   "cell_type": "code",
   "execution_count": 182,
   "metadata": {},
   "outputs": [],
   "source": [
    "grouped_food_noalcnovit_upf_hfss = food_noalcnovit.groupby(['Sex', 'seriali', 'DayNo']).apply (lambda x: (np.min(x['total_weights']), np.sum (x['lesshealthy'] * x['NOVA_UPF_NUPF_boolean'] * x['TotalGrams'])/np.sum(x['TotalGrams'])))"
   ]
  },
  {
   "cell_type": "code",
   "execution_count": 183,
   "metadata": {},
   "outputs": [
    {
     "data": {
      "text/plain": [
       "Sex\n",
       "1    (0.12645067825187906, 0.13273978287794938, 28693)\n",
       "2    (0.10406973554676126, 0.11834909741169834, 33604)\n",
       "dtype: object"
      ]
     },
     "execution_count": 183,
     "metadata": {},
     "output_type": "execute_result"
    }
   ],
   "source": [
    "grouped_food_noalcnovit_upf_hfss.groupby(level=[0]).apply (lambda x: weighted_avg_and_std (list(list_wo_nan(x)[1]), weights = [y for y in list_wo_nan(x)[0]]))"
   ]
  },
  {
   "cell_type": "markdown",
   "metadata": {},
   "source": [
    "Less healthy only"
   ]
  },
  {
   "cell_type": "code",
   "execution_count": 184,
   "metadata": {},
   "outputs": [],
   "source": [
    "#food_noalcnovit_four = food_noalcnovit[food_noalcnovit['DiaryDaysCompleted']==4]"
   ]
  },
  {
   "cell_type": "code",
   "execution_count": 185,
   "metadata": {},
   "outputs": [],
   "source": [
    "grouped_food_noalcnovit_hfss_only = food_noalcnovit.groupby(['Sex', 'seriali', 'DayNo']).apply (lambda x: (np.min(x['total_weights']), np.sum (x['lesshealthy'] * ~x['NOVA_UPF_NUPF_boolean'] * x['TotalGrams'])/np.sum(x['TotalGrams'])))"
   ]
  },
  {
   "cell_type": "code",
   "execution_count": 186,
   "metadata": {},
   "outputs": [],
   "source": [
    "grouped_food_noalcnovit_hfss_only = grouped_food_noalcnovit_hfss_only.groupby(level=[0, 1]).apply (lambda x: (np.min([y[0] for y in x]), np.mean ([y[1] for y in x])))"
   ]
  },
  {
   "cell_type": "code",
   "execution_count": 187,
   "metadata": {},
   "outputs": [
    {
     "data": {
      "text/plain": [
       "Sex\n",
       "1      (0.0369787492805659, 0.04510721242862614, 7207)\n",
       "2    (0.03224848275785799, 0.040347273560757985, 8448)\n",
       "dtype: object"
      ]
     },
     "execution_count": 187,
     "metadata": {},
     "output_type": "execute_result"
    }
   ],
   "source": [
    "grouped_food_noalcnovit_hfss_only.groupby(level=[0]).apply (lambda x: weighted_avg_and_std (list(list_wo_nan(x)[1]), weights = [y for y in list_wo_nan(x)[0]]))"
   ]
  },
  {
   "cell_type": "markdown",
   "metadata": {},
   "source": [
    "UPF only"
   ]
  },
  {
   "cell_type": "code",
   "execution_count": 188,
   "metadata": {},
   "outputs": [],
   "source": [
    "#food_noalcnovit_four = food_noalcnovit[food_noalcnovit['DiaryDaysCompleted']==4]"
   ]
  },
  {
   "cell_type": "code",
   "execution_count": 189,
   "metadata": {},
   "outputs": [],
   "source": [
    "grouped_food_noalcnovit_upf_only = food_noalcnovit.groupby(['Sex', 'seriali', 'DayNo']).apply (lambda x: (np.min(x['total_weights']), np.sum (~x['lesshealthy'] * x['NOVA_UPF_NUPF_boolean'] * x['TotalGrams'])/np.sum(x['TotalGrams'])))"
   ]
  },
  {
   "cell_type": "code",
   "execution_count": 190,
   "metadata": {},
   "outputs": [],
   "source": [
    "grouped_food_noalcnovit_upf_only = grouped_food_noalcnovit_upf_only.groupby(level=[0, 1]).apply (lambda x: (np.min([y[0] for y in x]), np.mean ([y[1] for y in x])))"
   ]
  },
  {
   "cell_type": "code",
   "execution_count": 191,
   "metadata": {},
   "outputs": [
    {
     "data": {
      "text/plain": [
       "Sex\n",
       "1    (0.19040804673234296, 0.1336211983499595, 7207)\n",
       "2    (0.1736492631075482, 0.13397773015356185, 8448)\n",
       "dtype: object"
      ]
     },
     "execution_count": 191,
     "metadata": {},
     "output_type": "execute_result"
    }
   ],
   "source": [
    "grouped_food_noalcnovit_upf_only.groupby(level=[0]).apply (lambda x: weighted_avg_and_std (list(list_wo_nan(x)[1]), weights = [y for y in list_wo_nan(x)[0]]))"
   ]
  },
  {
   "cell_type": "markdown",
   "metadata": {},
   "source": [
    "Neither HFSS nor UPF"
   ]
  },
  {
   "cell_type": "code",
   "execution_count": 192,
   "metadata": {},
   "outputs": [],
   "source": [
    "#food_noalcnovit_four = food_noalcnovit[food_noalcnovit['DiaryDaysCompleted']==4]"
   ]
  },
  {
   "cell_type": "code",
   "execution_count": 193,
   "metadata": {},
   "outputs": [],
   "source": [
    "grouped_food_noalcnovit_neither_hfss_upf = food_noalcnovit.groupby(['Sex', 'seriali', 'DayNo']).apply (lambda x: (np.min(x['total_weights']), np.sum (~x['lesshealthy'] * ~x['NOVA_UPF_NUPF_boolean'] * x['TotalGrams'])/np.sum(x['TotalGrams'])))"
   ]
  },
  {
   "cell_type": "code",
   "execution_count": 194,
   "metadata": {},
   "outputs": [],
   "source": [
    "grouped_food_noalcnovit_neither_hfss_upf = grouped_food_noalcnovit_neither_hfss_upf.groupby(level=[0, 1]).apply (lambda x: (np.min([y[0] for y in x]), np.mean ([y[1] for y in x])))"
   ]
  },
  {
   "cell_type": "code",
   "execution_count": 195,
   "metadata": {},
   "outputs": [
    {
     "data": {
      "text/plain": [
       "Sex\n",
       "1    (0.6461223106105024, 0.18644171155452244, 7207)\n",
       "2      (0.69006479680829, 0.18315520513233108, 8448)\n",
       "dtype: object"
      ]
     },
     "execution_count": 195,
     "metadata": {},
     "output_type": "execute_result"
    }
   ],
   "source": [
    "grouped_food_noalcnovit_neither_hfss_upf.groupby(level=[0]).apply (lambda x: weighted_avg_and_std (list(list_wo_nan(x)[1]), weights = [y for y in list_wo_nan(x)[0]]))"
   ]
  },
  {
   "cell_type": "markdown",
   "metadata": {},
   "source": [
    "UPF and less healthy for UPF products only"
   ]
  },
  {
   "cell_type": "code",
   "execution_count": 196,
   "metadata": {},
   "outputs": [],
   "source": [
    "food_noalcnovit_four_upf = food_noalcnovit[(food_noalcnovit[\"NOVA_UPF_NUPF_boolean\"])]"
   ]
  },
  {
   "cell_type": "code",
   "execution_count": 197,
   "metadata": {},
   "outputs": [],
   "source": [
    "grouped_food_noalcnovit_upf_sample = food_noalcnovit_four_upf.groupby(['Sex', 'seriali', 'DayNo']).apply (lambda x: (np.min(x['total_weights']), np.sum (x['lesshealthy'] * x['NOVA_UPF_NUPF_boolean'] * x['TotalGrams'])/np.sum(x['TotalGrams'])))"
   ]
  },
  {
   "cell_type": "code",
   "execution_count": 198,
   "metadata": {},
   "outputs": [],
   "source": [
    "grouped_food_noalcnovit_upf_sample = grouped_food_noalcnovit_upf_sample.groupby(level=[0, 1]).apply (lambda x: (np.min([y[0] for y in x]), np.mean ([y[1] for y in x])))"
   ]
  },
  {
   "cell_type": "code",
   "execution_count": 199,
   "metadata": {},
   "outputs": [
    {
     "data": {
      "text/plain": [
       "Sex\n",
       "1    (0.40472688697985537, 0.18976112875300488, 7206)\n",
       "2     (0.3963371190362525, 0.19034763815712427, 8448)\n",
       "dtype: object"
      ]
     },
     "execution_count": 199,
     "metadata": {},
     "output_type": "execute_result"
    }
   ],
   "source": [
    "grouped_food_noalcnovit_upf_sample.groupby(level=[0]).apply (lambda x: weighted_avg_and_std (list(list_wo_nan(x)[1]), weights = [y for y in list_wo_nan(x)[0]]))"
   ]
  },
  {
   "cell_type": "markdown",
   "metadata": {},
   "source": [
    "Neither HFSS nor UPF"
   ]
  },
  {
   "cell_type": "code",
   "execution_count": 200,
   "metadata": {},
   "outputs": [],
   "source": [
    "#food_noalcnovit_four = food_noalcnovit[food_noalcnovit['DiaryDaysCompleted']==4]"
   ]
  },
  {
   "cell_type": "code",
   "execution_count": 201,
   "metadata": {},
   "outputs": [],
   "source": [
    "grouped_food_noalcnovit_neither_upf_hfss = food_noalcnovit.groupby(['Sex', 'seriali', 'DayNo']).apply (lambda x: (np.min(x['total_weights']), np.sum (~x['lesshealthy'] * ~x['NOVA_UPF_NUPF_boolean'] * x['TotalGrams'])/np.sum(x['TotalGrams'])))"
   ]
  },
  {
   "cell_type": "code",
   "execution_count": 202,
   "metadata": {},
   "outputs": [],
   "source": [
    "grouped_food_noalcnovit_neither_upf_hfss = grouped_food_noalcnovit_neither_upf_hfss.groupby(level=[0, 1]).apply (lambda x: (np.min([y[0] for y in x]), np.mean ([y[1] for y in x])))"
   ]
  },
  {
   "cell_type": "code",
   "execution_count": 203,
   "metadata": {},
   "outputs": [
    {
     "data": {
      "text/plain": [
       "Sex\n",
       "1    (0.6461223106105024, 0.18644171155452244, 7207)\n",
       "2      (0.69006479680829, 0.18315520513233108, 8448)\n",
       "dtype: object"
      ]
     },
     "execution_count": 203,
     "metadata": {},
     "output_type": "execute_result"
    }
   ],
   "source": [
    "grouped_food_noalcnovit_neither_upf_hfss.groupby(level=[0]).apply (lambda x: weighted_avg_and_std (list(list_wo_nan(x)[1]), weights = [y for y in list_wo_nan(x)[0]]))"
   ]
  },
  {
   "cell_type": "markdown",
   "metadata": {},
   "source": [
    "UPF only"
   ]
  },
  {
   "cell_type": "code",
   "execution_count": 204,
   "metadata": {},
   "outputs": [],
   "source": [
    "#food_noalcnovit_four = food_noalcnovit[food_noalcnovit['DiaryDaysCompleted']==4]"
   ]
  },
  {
   "cell_type": "code",
   "execution_count": 205,
   "metadata": {},
   "outputs": [],
   "source": [
    "grouped_food_noalcnovit_upf_only = food_noalcnovit.groupby(['Sex', 'seriali', 'DayNo']).apply (lambda x: (np.min(x['total_weights']), np.sum (~x['lesshealthy'] * x['NOVA_UPF_NUPF_boolean'] * x['Energykcal'])/np.sum(x['Energykcal'])))"
   ]
  },
  {
   "cell_type": "code",
   "execution_count": 206,
   "metadata": {},
   "outputs": [],
   "source": [
    "grouped_food_noalcnovit_upf_only = grouped_food_noalcnovit_upf_only.groupby(level=[0, 1]).apply (lambda x: (np.min([y[0] for y in x]), np.mean ([y[1] for y in x])))"
   ]
  },
  {
   "cell_type": "code",
   "execution_count": 207,
   "metadata": {},
   "outputs": [
    {
     "name": "stdout",
     "output_type": "stream",
     "text": [
      "NaN\n",
      "NaN\n",
      "NaN\n",
      "NaN\n",
      "NaN\n",
      "NaN\n",
      "NaN\n",
      "NaN\n",
      "NaN\n",
      "NaN\n",
      "NaN\n",
      "NaN\n",
      "NaN\n",
      "NaN\n",
      "NaN\n",
      "NaN\n",
      "NaN\n",
      "NaN\n",
      "NaN\n",
      "NaN\n",
      "NaN\n",
      "NaN\n",
      "NaN\n",
      "NaN\n",
      "NaN\n",
      "NaN\n",
      "NaN\n",
      "NaN\n",
      "NaN\n",
      "NaN\n",
      "NaN\n",
      "NaN\n",
      "NaN\n",
      "NaN\n",
      "NaN\n",
      "NaN\n",
      "NaN\n",
      "NaN\n",
      "NaN\n",
      "NaN\n",
      "NaN\n",
      "NaN\n",
      "NaN\n",
      "NaN\n",
      "NaN\n",
      "NaN\n"
     ]
    },
    {
     "data": {
      "text/plain": [
       "Sex\n",
       "1     (0.2546428038012798, 0.10346476723729686, 7199)\n",
       "2    (0.23819824451648564, 0.10516483292941904, 8433)\n",
       "dtype: object"
      ]
     },
     "execution_count": 207,
     "metadata": {},
     "output_type": "execute_result"
    }
   ],
   "source": [
    "grouped_food_noalcnovit_upf_only.groupby(level=[0]).apply (lambda x: weighted_avg_and_std (list(list_wo_nan(x)[1]), weights = [y for y in list_wo_nan(x)[0]]))"
   ]
  },
  {
   "cell_type": "markdown",
   "metadata": {},
   "source": [
    "healthy only "
   ]
  },
  {
   "cell_type": "code",
   "execution_count": 208,
   "metadata": {},
   "outputs": [],
   "source": [
    "#food_noalcnovit_four = food_noalcnovit[food_noalcnovit['DiaryDaysCompleted']==4]"
   ]
  },
  {
   "cell_type": "code",
   "execution_count": 209,
   "metadata": {},
   "outputs": [],
   "source": [
    "grouped_food_noalcnovit_healthy_only = food_noalcnovit.groupby(['Sex', 'seriali', 'DayNo']).apply (lambda x: (np.min(x['total_weights']), np.sum (x['lesshealthy'] * ~x['NOVA_UPF_NUPF_boolean'] * x['Energykcal'])/np.sum(x['Energykcal'])))"
   ]
  },
  {
   "cell_type": "code",
   "execution_count": 210,
   "metadata": {},
   "outputs": [],
   "source": [
    "grouped_food_noalcnovit_healthy_only = grouped_food_noalcnovit_healthy_only.groupby(level=[0, 1]).apply (lambda x: (np.min([y[0] for y in x]), np.mean ([y[1] for y in x])))"
   ]
  },
  {
   "cell_type": "code",
   "execution_count": 211,
   "metadata": {},
   "outputs": [
    {
     "name": "stdout",
     "output_type": "stream",
     "text": [
      "NaN\n",
      "NaN\n",
      "NaN\n",
      "NaN\n",
      "NaN\n",
      "NaN\n",
      "NaN\n",
      "NaN\n",
      "NaN\n",
      "NaN\n",
      "NaN\n",
      "NaN\n",
      "NaN\n",
      "NaN\n",
      "NaN\n",
      "NaN\n",
      "NaN\n",
      "NaN\n",
      "NaN\n",
      "NaN\n",
      "NaN\n",
      "NaN\n",
      "NaN\n",
      "NaN\n",
      "NaN\n",
      "NaN\n",
      "NaN\n",
      "NaN\n",
      "NaN\n",
      "NaN\n",
      "NaN\n",
      "NaN\n",
      "NaN\n",
      "NaN\n",
      "NaN\n",
      "NaN\n",
      "NaN\n",
      "NaN\n",
      "NaN\n",
      "NaN\n",
      "NaN\n",
      "NaN\n",
      "NaN\n",
      "NaN\n",
      "NaN\n",
      "NaN\n"
     ]
    },
    {
     "data": {
      "text/plain": [
       "Sex\n",
       "1    (0.13262808331478868, 0.08551424681410798, 7199)\n",
       "2    (0.13493151855753963, 0.08777185127661415, 8433)\n",
       "dtype: object"
      ]
     },
     "execution_count": 211,
     "metadata": {},
     "output_type": "execute_result"
    }
   ],
   "source": [
    "grouped_food_noalcnovit_healthy_only.groupby(level=[0]).apply (lambda x: weighted_avg_and_std (list(list_wo_nan(x)[1]), weights = [y for y in list_wo_nan(x)[0]]))"
   ]
  },
  {
   "cell_type": "markdown",
   "metadata": {},
   "source": [
    "Less healthy and upf weighted for UPF goods only"
   ]
  },
  {
   "cell_type": "code",
   "execution_count": 212,
   "metadata": {},
   "outputs": [],
   "source": [
    "food_noalcnovit_four_upf = food_noalcnovit[(food_noalcnovit[\"NOVA_UPF_NUPF_boolean\"])]"
   ]
  },
  {
   "cell_type": "code",
   "execution_count": 213,
   "metadata": {},
   "outputs": [],
   "source": [
    "grouped_food_noalcnovit_upf_sample = food_noalcnovit_four_upf.groupby(['Sex', 'seriali', 'DayNo']).apply (lambda x: (np.min(x['total_weights']), np.sum (x['lesshealthy'] * x['NOVA_UPF_NUPF_boolean'] * x['Energykcal'])/np.sum(x['Energykcal'])))"
   ]
  },
  {
   "cell_type": "code",
   "execution_count": 214,
   "metadata": {},
   "outputs": [],
   "source": [
    "grouped_food_noalcnovit_upf_sample = grouped_food_noalcnovit_upf_sample.groupby(level=[0, 1]).apply (lambda x: (np.min([y[0] for y in x]), np.mean ([y[1] for y in x])))"
   ]
  },
  {
   "cell_type": "code",
   "execution_count": 215,
   "metadata": {},
   "outputs": [
    {
     "name": "stdout",
     "output_type": "stream",
     "text": [
      "NaN\n",
      "NaN\n",
      "NaN\n",
      "NaN\n",
      "NaN\n",
      "NaN\n",
      "NaN\n",
      "NaN\n",
      "NaN\n",
      "NaN\n"
     ]
    },
    {
     "data": {
      "text/plain": [
       "Sex\n",
       "1     (0.5325703845923553, 0.1717586418214759, 7205)\n",
       "2    (0.5444044605600549, 0.17313238969215491, 8444)\n",
       "dtype: object"
      ]
     },
     "execution_count": 215,
     "metadata": {},
     "output_type": "execute_result"
    }
   ],
   "source": [
    "grouped_food_noalcnovit_upf_sample.groupby(level=[0]).apply (lambda x: weighted_avg_and_std (list(list_wo_nan(x)[1]), weights = [y for y in list_wo_nan(x)[0]]))"
   ]
  },
  {
   "cell_type": "markdown",
   "metadata": {},
   "source": [
    "NEITHER LESS HEALTHY NOR UPF WEIGHTED BY ENERGY"
   ]
  },
  {
   "cell_type": "code",
   "execution_count": 216,
   "metadata": {},
   "outputs": [],
   "source": [
    "#food_noalcnovit_four = food_noalcnovit[food_noalcnovit['DiaryDaysCompleted']==4]"
   ]
  },
  {
   "cell_type": "code",
   "execution_count": 217,
   "metadata": {},
   "outputs": [],
   "source": [
    "grouped_food_noalcnovit_upf_hfss_NEITHER = food_noalcnovit.groupby(['Sex', 'seriali', 'DayNo']).apply (lambda x: (np.min(x['total_weights']), np.sum (~x['lesshealthy'] * ~x['NOVA_UPF_NUPF_boolean'] * x['Energykcal'])/np.sum(x['Energykcal'])))"
   ]
  },
  {
   "cell_type": "code",
   "execution_count": 218,
   "metadata": {},
   "outputs": [],
   "source": [
    "grouped_food_noalcnovit_upf_hfss_NEITHER = grouped_food_noalcnovit_upf_hfss_NEITHER.groupby(level=[0, 1]).apply (lambda x: (np.min([y[0] for y in x]), np.mean ([y[1] for y in x])))"
   ]
  },
  {
   "cell_type": "code",
   "execution_count": 219,
   "metadata": {},
   "outputs": [
    {
     "name": "stdout",
     "output_type": "stream",
     "text": [
      "NaN\n",
      "NaN\n",
      "NaN\n",
      "NaN\n",
      "NaN\n",
      "NaN\n",
      "NaN\n",
      "NaN\n",
      "NaN\n",
      "NaN\n",
      "NaN\n",
      "NaN\n",
      "NaN\n",
      "NaN\n",
      "NaN\n",
      "NaN\n",
      "NaN\n",
      "NaN\n",
      "NaN\n",
      "NaN\n",
      "NaN\n",
      "NaN\n",
      "NaN\n",
      "NaN\n",
      "NaN\n",
      "NaN\n",
      "NaN\n",
      "NaN\n",
      "NaN\n",
      "NaN\n",
      "NaN\n",
      "NaN\n",
      "NaN\n",
      "NaN\n",
      "NaN\n",
      "NaN\n",
      "NaN\n",
      "NaN\n",
      "NaN\n",
      "NaN\n",
      "NaN\n",
      "NaN\n",
      "NaN\n",
      "NaN\n",
      "NaN\n",
      "NaN\n"
     ]
    },
    {
     "data": {
      "text/plain": [
       "Sex\n",
       "1      (0.3035763766884603, 0.1346661088553221, 7199)\n",
       "2    (0.33013407407407175, 0.13635850138946892, 8433)\n",
       "dtype: object"
      ]
     },
     "execution_count": 219,
     "metadata": {},
     "output_type": "execute_result"
    }
   ],
   "source": [
    "grouped_food_noalcnovit_upf_hfss_NEITHER.groupby(level=[0]).apply (lambda x: weighted_avg_and_std (list(list_wo_nan(x)[1]), weights = [y for y in list_wo_nan(x)[0]]))"
   ]
  },
  {
   "cell_type": "markdown",
   "metadata": {},
   "source": [
    "Less healthy and upf weighted"
   ]
  },
  {
   "cell_type": "code",
   "execution_count": 220,
   "metadata": {},
   "outputs": [],
   "source": [
    "#food_noalcnovit_four = food_noalcnovit[food_noalcnovit['DiaryDaysCompleted']==4]"
   ]
  },
  {
   "cell_type": "code",
   "execution_count": 221,
   "metadata": {},
   "outputs": [],
   "source": [
    "grouped_food_noalcnovit_upf_hfss = food_noalcnovit.groupby(['Sex', 'seriali', 'DayNo']).apply (lambda x: (np.min(x['total_weights']), np.sum (x['lesshealthy'] * x['NOVA_UPF_NUPF_boolean'] * x['Energykcal'])/np.sum(x['Energykcal'])))"
   ]
  },
  {
   "cell_type": "code",
   "execution_count": 222,
   "metadata": {},
   "outputs": [],
   "source": [
    "grouped_food_noalcnovit_upf_hfss = grouped_food_noalcnovit_upf_hfss.groupby(level=[0, 1]).apply (lambda x: (np.min([y[0] for y in x]), np.mean ([y[1] for y in x])))"
   ]
  },
  {
   "cell_type": "code",
   "execution_count": 223,
   "metadata": {},
   "outputs": [
    {
     "name": "stdout",
     "output_type": "stream",
     "text": [
      "NaN\n",
      "NaN\n",
      "NaN\n",
      "NaN\n",
      "NaN\n",
      "NaN\n",
      "NaN\n",
      "NaN\n",
      "NaN\n",
      "NaN\n",
      "NaN\n",
      "NaN\n",
      "NaN\n",
      "NaN\n",
      "NaN\n",
      "NaN\n",
      "NaN\n",
      "NaN\n",
      "NaN\n",
      "NaN\n",
      "NaN\n",
      "NaN\n",
      "NaN\n",
      "NaN\n",
      "NaN\n",
      "NaN\n",
      "NaN\n",
      "NaN\n",
      "NaN\n",
      "NaN\n",
      "NaN\n",
      "NaN\n",
      "NaN\n",
      "NaN\n",
      "NaN\n",
      "NaN\n",
      "NaN\n",
      "NaN\n",
      "NaN\n",
      "NaN\n",
      "NaN\n",
      "NaN\n",
      "NaN\n",
      "NaN\n",
      "NaN\n",
      "NaN\n"
     ]
    },
    {
     "data": {
      "text/plain": [
       "Sex\n",
       "1    (0.30915273619547123, 0.14068966754049822, 7199)\n",
       "2      (0.296736162851903, 0.13417603915050544, 8433)\n",
       "dtype: object"
      ]
     },
     "execution_count": 223,
     "metadata": {},
     "output_type": "execute_result"
    }
   ],
   "source": [
    "        grouped_food_noalcnovit_upf_hfss.groupby(level=[0]).apply (lambda x: weighted_avg_and_std (list(list_wo_nan(x)[1]), weights = [y for y in list_wo_nan(x)[0]]))"
   ]
  },
  {
   "cell_type": "markdown",
   "metadata": {},
   "source": [
    "UPF by gender weighted"
   ]
  },
  {
   "cell_type": "code",
   "execution_count": 224,
   "metadata": {},
   "outputs": [],
   "source": [
    "#food_noalcnovit_four = food_noalcnovit[food_noalcnovit['DiaryDaysCompleted']==4]"
   ]
  },
  {
   "cell_type": "code",
   "execution_count": 225,
   "metadata": {},
   "outputs": [],
   "source": [
    "grouped_food_noalcnovit_upf = food_noalcnovit.groupby(['Sex', 'seriali', 'DayNo']).apply (lambda x: (np.min(x['total_weights']), np.sum (x['NOVA_UPF_NUPF_boolean'] * x['Energykcal'])/np.sum(x['Energykcal'])))"
   ]
  },
  {
   "cell_type": "code",
   "execution_count": 226,
   "metadata": {},
   "outputs": [],
   "source": [
    "grouped_food_noalcnovit_upf = grouped_food_noalcnovit_upf.groupby(level=[0, 1]).apply (lambda x: (np.min([y[0] for y in x]), np.mean ([y[1] for y in x])))"
   ]
  },
  {
   "cell_type": "code",
   "execution_count": 227,
   "metadata": {},
   "outputs": [
    {
     "name": "stdout",
     "output_type": "stream",
     "text": [
      "NaN\n",
      "NaN\n",
      "NaN\n",
      "NaN\n",
      "NaN\n",
      "NaN\n",
      "NaN\n",
      "NaN\n",
      "NaN\n",
      "NaN\n",
      "NaN\n",
      "NaN\n",
      "NaN\n",
      "NaN\n",
      "NaN\n",
      "NaN\n",
      "NaN\n",
      "NaN\n",
      "NaN\n",
      "NaN\n",
      "NaN\n",
      "NaN\n",
      "NaN\n",
      "NaN\n",
      "NaN\n",
      "NaN\n",
      "NaN\n",
      "NaN\n",
      "NaN\n",
      "NaN\n",
      "NaN\n",
      "NaN\n",
      "NaN\n",
      "NaN\n",
      "NaN\n",
      "NaN\n",
      "NaN\n",
      "NaN\n",
      "NaN\n",
      "NaN\n",
      "NaN\n",
      "NaN\n",
      "NaN\n",
      "NaN\n",
      "NaN\n",
      "NaN\n"
     ]
    },
    {
     "data": {
      "text/plain": [
       "Sex\n",
       "1     (0.563795539996751, 0.15719356121282152, 7199)\n",
       "2    (0.5349344073683887, 0.15554419961137503, 8433)\n",
       "dtype: object"
      ]
     },
     "execution_count": 227,
     "metadata": {},
     "output_type": "execute_result"
    }
   ],
   "source": [
    "grouped_food_noalcnovit_upf.groupby(level=[0]).apply (lambda x: weighted_avg_and_std (list(list_wo_nan(x)[1]), weights = [y for y in list_wo_nan(x)[0]]))"
   ]
  },
  {
   "cell_type": "markdown",
   "metadata": {},
   "source": [
    "Less healthy by gender weighted"
   ]
  },
  {
   "cell_type": "code",
   "execution_count": 228,
   "metadata": {},
   "outputs": [],
   "source": [
    "#food_noalcnovit_four = food_noalcnovit[food_noalcnovit['DiaryDaysCompleted']==4]"
   ]
  },
  {
   "cell_type": "code",
   "execution_count": 229,
   "metadata": {},
   "outputs": [],
   "source": [
    "grouped_food_noalcnovit_hfss = food_noalcnovit.groupby(['Sex', 'seriali', 'DayNo']).apply (lambda x: (np.min(x['total_weights']), np.sum (x['lesshealthy'] * x['Energykcal'])/np.sum(x['Energykcal'])))"
   ]
  },
  {
   "cell_type": "code",
   "execution_count": 230,
   "metadata": {},
   "outputs": [
    {
     "data": {
      "text/plain": [
       "Sex  seriali    DayNo\n",
       "1    10101151   1          (2.1780238, 0.5493650779652315)\n",
       "                2          (2.1780238, 0.4414979382116011)\n",
       "                3          (2.1780238, 0.5853923449896691)\n",
       "                4          (2.1780238, 0.4559027168324364)\n",
       "     10102011   1          (2.5626781, 0.4574927769681163)\n",
       "                                       ...                \n",
       "2    901212091  4        (0.50142938, 0.05258746842253459)\n",
       "     901212101  1         (0.34787661, 0.4633904190989554)\n",
       "                2         (0.34787661, 0.4869438509921944)\n",
       "                3        (0.34787661, 0.42032910619226493)\n",
       "                4        (0.34787661, 0.36186893881925053)\n",
       "Length: 62297, dtype: object"
      ]
     },
     "execution_count": 230,
     "metadata": {},
     "output_type": "execute_result"
    }
   ],
   "source": [
    "grouped_food_noalcnovit_hfss"
   ]
  },
  {
   "cell_type": "code",
   "execution_count": 231,
   "metadata": {},
   "outputs": [],
   "source": [
    "grouped_food_noalcnovit_hfss = grouped_food_noalcnovit_hfss.groupby(level=[0, 1]).apply (lambda x: (np.min([y[0] for y in x]), np.mean ([y[1] for y in x])))"
   ]
  },
  {
   "cell_type": "code",
   "execution_count": 232,
   "metadata": {},
   "outputs": [
    {
     "data": {
      "text/plain": [
       "Sex  seriali  \n",
       "1    10101151       (2.1780238, 0.5080395194997346)\n",
       "     10102011        (2.5626781, 0.593120781392033)\n",
       "     10102032      (0.37143102, 0.5713907058041552)\n",
       "     10102042      (0.65639466, 0.4233047856990973)\n",
       "     10102071       (1.9840486, 0.5410280017863974)\n",
       "                                ...                \n",
       "2    901210163     (0.22372176, 0.4137829229386466)\n",
       "     901210264    (0.096313551, 0.3444355746779695)\n",
       "     901211241    (0.83734238, 0.29269165840465416)\n",
       "     901212091    (0.50142938, 0.20915363809200288)\n",
       "     901212101     (0.34787661, 0.4331330787756663)\n",
       "Length: 15655, dtype: object"
      ]
     },
     "execution_count": 232,
     "metadata": {},
     "output_type": "execute_result"
    }
   ],
   "source": [
    "grouped_food_noalcnovit_hfss "
   ]
  },
  {
   "cell_type": "code",
   "execution_count": 233,
   "metadata": {},
   "outputs": [
    {
     "name": "stdout",
     "output_type": "stream",
     "text": [
      "NaN\n",
      "NaN\n",
      "NaN\n",
      "NaN\n",
      "NaN\n",
      "NaN\n",
      "NaN\n",
      "NaN\n",
      "NaN\n",
      "NaN\n",
      "NaN\n",
      "NaN\n",
      "NaN\n",
      "NaN\n",
      "NaN\n",
      "NaN\n",
      "NaN\n",
      "NaN\n",
      "NaN\n",
      "NaN\n",
      "NaN\n",
      "NaN\n",
      "NaN\n",
      "NaN\n",
      "NaN\n",
      "NaN\n",
      "NaN\n",
      "NaN\n",
      "NaN\n",
      "NaN\n",
      "NaN\n",
      "NaN\n",
      "NaN\n",
      "NaN\n",
      "NaN\n",
      "NaN\n",
      "NaN\n",
      "NaN\n",
      "NaN\n",
      "NaN\n",
      "NaN\n",
      "NaN\n",
      "NaN\n",
      "NaN\n",
      "NaN\n",
      "NaN\n"
     ]
    },
    {
     "data": {
      "text/plain": [
       "Sex\n",
       "1    (0.4417808195102599, 0.13247951525865165, 7199)\n",
       "2     (0.4316676814094426, 0.1315836903570158, 8433)\n",
       "dtype: object"
      ]
     },
     "execution_count": 233,
     "metadata": {},
     "output_type": "execute_result"
    }
   ],
   "source": [
    "\n",
    "    grouped_food_noalcnovit_hfss.groupby(level=[0]).apply (lambda x: weighted_avg_and_std (list(list_wo_nan(x)[1]), weights =  [y for y in list_wo_nan(x)[0]]))"
   ]
  }
 ],
 "metadata": {
  "kernelspec": {
   "display_name": "base",
   "language": "python",
   "name": "python3"
  },
  "language_info": {
   "codemirror_mode": {
    "name": "ipython",
    "version": 3
   },
   "file_extension": ".py",
   "mimetype": "text/x-python",
   "name": "python",
   "nbconvert_exporter": "python",
   "pygments_lexer": "ipython3",
   "version": "3.11.4"
  }
 },
 "nbformat": 4,
 "nbformat_minor": 2
}
